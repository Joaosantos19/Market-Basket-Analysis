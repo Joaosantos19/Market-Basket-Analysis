{
 "cells": [
  {
   "cell_type": "markdown",
   "id": "ebb14fdb",
   "metadata": {},
   "source": [
    "# Machine Learning Group Project 2023\n",
    " Ashkan Lotfollahzadeh (ashka.lotfollahzadeh@studio.unibo.it) - Michelle Lee Kruschke (michellelee.kruschke@studio.unibo.it) - Marco Mancuso Morini (marco.mancusomorini@studio.unibo.it) - Melissa Nieto Ridoutt (melissa.nietoridoutt@studio.unibo.it) - João Victor Pereira Dos Santos (joao.pereirados2@studio.unibo.it)\n",
    "\n"
   ]
  },
  {
   "cell_type": "markdown",
   "id": "a0149d8c",
   "metadata": {},
   "source": [
    "## Introduction\n",
    "\n",
    "We chose the Kaggle competition <https://www.kaggle.com/competitions/instacart-market-basket-analysis>.  Instacart is an American company that offers grocery shopping and delivery services via website and a moblie app. It connects users with a personal shopper in their area to shop and deliver groceries from local participating stores. Although the original objective of the competition was quite complex, we chose to evalute the problem lookiing at the whether a product would be reordered based on various features of past history, and additionally a Market Basket Analysis to determine which prodoucts could possibly be purchased together in the future. The datasets used in the evaluation were provided in 2017, by Instacart, in open sourced data taken from over 200,000 Instacart users."
   ]
  },
  {
   "cell_type": "code",
   "execution_count": 7,
   "id": "f799a2d5",
   "metadata": {},
   "outputs": [],
   "source": [
    "#Importing libraries:\n",
    "\n",
    "import warnings\n",
    "warnings.filterwarnings('ignore')\n",
    "\n",
    "import pandas as pd\n",
    "import numpy as np\n",
    "import matplotlib.pyplot as plt\n",
    "import seaborn as sns\n",
    "from sklearn.model_selection import train_test_split\n",
    "from sklearn.tree import DecisionTreeClassifier\n",
    "from sklearn.metrics import accuracy_score, classification_report, confusion_matrix\n",
    "from sklearn.model_selection import cross_val_score\n",
    "from sklearn.ensemble import RandomForestClassifier\n",
    "from sklearn.compose import ColumnTransformer\n",
    "from sklearn.pipeline import Pipeline\n",
    "from sklearn.impute import SimpleImputer\n",
    "from sklearn.preprocessing import StandardScaler\n",
    "from sklearn.metrics import ConfusionMatrixDisplay\n",
    "from sklearn.model_selection import GridSearchCV\n",
    "from sklearn.metrics import f1_score, recall_score, precision_score\n",
    "from sklearn.naive_bayes import GaussianNB\n",
    "from sklearn.neighbors import KNeighborsClassifier\n",
    "from sklearn.ensemble import AdaBoostClassifier\n",
    "from sklearn.linear_model import Perceptron\n",
    "from sklearn.neural_network import MLPClassifier\n",
    "from sklearn.metrics import ConfusionMatrixDisplay\n",
    "from sklearn.svm import SVC\n",
    "from sklearn.model_selection import RandomizedSearchCV\n",
    "from mlxtend.frequent_patterns import apriori\n",
    "from mlxtend.frequent_patterns import association_rules\n",
    "from xgboost import XGBClassifier\n",
    "from mlxtend.frequent_patterns import association_rules\n",
    "from mlxtend.frequent_patterns import apriori\n",
    "from sklearn.preprocessing import MinMaxScaler\n"
   ]
  },
  {
   "cell_type": "code",
   "execution_count": 8,
   "id": "0b4dfae4",
   "metadata": {},
   "outputs": [],
   "source": [
    "#Creating relevant variables\n",
    "rs = 42 #Random_state\n",
    "np.random.seed(rs)\n",
    "cv = 3\n",
    "%matplotlib inline\n"
   ]
  },
  {
   "cell_type": "code",
   "execution_count": 9,
   "id": "b917a3e6",
   "metadata": {},
   "outputs": [],
   "source": [
    "aisles=pd.read_csv('aisles.csv')\n",
    "departments=pd.read_csv('departments.csv')\n",
    "products=pd.read_csv('products.csv')\n",
    "orders=pd.read_csv('orders.csv')\n",
    "order_products_prior = pd.read_csv('order_products__prior.csv')\n",
    "order_products_train = pd.read_csv('order_products__train.csv')\n"
   ]
  },
  {
   "cell_type": "markdown",
   "id": "b69ac8f7",
   "metadata": {},
   "source": [
    "## 0. Analysing the data"
   ]
  },
  {
   "cell_type": "markdown",
   "id": "464ef422",
   "metadata": {},
   "source": [
    "### Aisles"
   ]
  },
  {
   "cell_type": "code",
   "execution_count": 10,
   "id": "1ae119af",
   "metadata": {},
   "outputs": [
    {
     "data": {
      "text/html": [
       "<div>\n",
       "<style scoped>\n",
       "    .dataframe tbody tr th:only-of-type {\n",
       "        vertical-align: middle;\n",
       "    }\n",
       "\n",
       "    .dataframe tbody tr th {\n",
       "        vertical-align: top;\n",
       "    }\n",
       "\n",
       "    .dataframe thead th {\n",
       "        text-align: right;\n",
       "    }\n",
       "</style>\n",
       "<table border=\"1\" class=\"dataframe\">\n",
       "  <thead>\n",
       "    <tr style=\"text-align: right;\">\n",
       "      <th></th>\n",
       "      <th>aisle_id</th>\n",
       "      <th>aisle</th>\n",
       "    </tr>\n",
       "  </thead>\n",
       "  <tbody>\n",
       "    <tr>\n",
       "      <th>0</th>\n",
       "      <td>1</td>\n",
       "      <td>prepared soups salads</td>\n",
       "    </tr>\n",
       "    <tr>\n",
       "      <th>1</th>\n",
       "      <td>2</td>\n",
       "      <td>specialty cheeses</td>\n",
       "    </tr>\n",
       "    <tr>\n",
       "      <th>2</th>\n",
       "      <td>3</td>\n",
       "      <td>energy granola bars</td>\n",
       "    </tr>\n",
       "    <tr>\n",
       "      <th>3</th>\n",
       "      <td>4</td>\n",
       "      <td>instant foods</td>\n",
       "    </tr>\n",
       "    <tr>\n",
       "      <th>4</th>\n",
       "      <td>5</td>\n",
       "      <td>marinades meat preparation</td>\n",
       "    </tr>\n",
       "  </tbody>\n",
       "</table>\n",
       "</div>"
      ],
      "text/plain": [
       "   aisle_id                       aisle\n",
       "0         1       prepared soups salads\n",
       "1         2           specialty cheeses\n",
       "2         3         energy granola bars\n",
       "3         4               instant foods\n",
       "4         5  marinades meat preparation"
      ]
     },
     "execution_count": 10,
     "metadata": {},
     "output_type": "execute_result"
    }
   ],
   "source": [
    "aisles.head()"
   ]
  },
  {
   "cell_type": "code",
   "execution_count": 11,
   "id": "c0ae9b0f",
   "metadata": {},
   "outputs": [
    {
     "data": {
      "text/plain": [
       "((134, 2), 134)"
      ]
     },
     "execution_count": 11,
     "metadata": {},
     "output_type": "execute_result"
    }
   ],
   "source": [
    "aisles.shape, len(aisles['aisle_id'].unique())"
   ]
  },
  {
   "cell_type": "code",
   "execution_count": 12,
   "id": "b336e7b0",
   "metadata": {},
   "outputs": [
    {
     "name": "stdout",
     "output_type": "stream",
     "text": [
      "<class 'pandas.core.frame.DataFrame'>\n",
      "RangeIndex: 134 entries, 0 to 133\n",
      "Data columns (total 2 columns):\n",
      " #   Column    Non-Null Count  Dtype \n",
      "---  ------    --------------  ----- \n",
      " 0   aisle_id  134 non-null    int64 \n",
      " 1   aisle     134 non-null    object\n",
      "dtypes: int64(1), object(1)\n",
      "memory usage: 2.2+ KB\n"
     ]
    }
   ],
   "source": [
    "aisles.info()"
   ]
  },
  {
   "cell_type": "markdown",
   "id": "7305fe33",
   "metadata": {},
   "source": [
    "## Departments"
   ]
  },
  {
   "cell_type": "code",
   "execution_count": 13,
   "id": "1f2b32f7",
   "metadata": {},
   "outputs": [
    {
     "data": {
      "text/html": [
       "<div>\n",
       "<style scoped>\n",
       "    .dataframe tbody tr th:only-of-type {\n",
       "        vertical-align: middle;\n",
       "    }\n",
       "\n",
       "    .dataframe tbody tr th {\n",
       "        vertical-align: top;\n",
       "    }\n",
       "\n",
       "    .dataframe thead th {\n",
       "        text-align: right;\n",
       "    }\n",
       "</style>\n",
       "<table border=\"1\" class=\"dataframe\">\n",
       "  <thead>\n",
       "    <tr style=\"text-align: right;\">\n",
       "      <th></th>\n",
       "      <th>department_id</th>\n",
       "      <th>department</th>\n",
       "    </tr>\n",
       "  </thead>\n",
       "  <tbody>\n",
       "    <tr>\n",
       "      <th>0</th>\n",
       "      <td>1</td>\n",
       "      <td>frozen</td>\n",
       "    </tr>\n",
       "    <tr>\n",
       "      <th>1</th>\n",
       "      <td>2</td>\n",
       "      <td>other</td>\n",
       "    </tr>\n",
       "    <tr>\n",
       "      <th>2</th>\n",
       "      <td>3</td>\n",
       "      <td>bakery</td>\n",
       "    </tr>\n",
       "    <tr>\n",
       "      <th>3</th>\n",
       "      <td>4</td>\n",
       "      <td>produce</td>\n",
       "    </tr>\n",
       "    <tr>\n",
       "      <th>4</th>\n",
       "      <td>5</td>\n",
       "      <td>alcohol</td>\n",
       "    </tr>\n",
       "  </tbody>\n",
       "</table>\n",
       "</div>"
      ],
      "text/plain": [
       "   department_id department\n",
       "0              1     frozen\n",
       "1              2      other\n",
       "2              3     bakery\n",
       "3              4    produce\n",
       "4              5    alcohol"
      ]
     },
     "execution_count": 13,
     "metadata": {},
     "output_type": "execute_result"
    }
   ],
   "source": [
    "departments.head()"
   ]
  },
  {
   "cell_type": "code",
   "execution_count": 14,
   "id": "e13acf7f",
   "metadata": {},
   "outputs": [
    {
     "data": {
      "text/plain": [
       "((21, 2), 21)"
      ]
     },
     "execution_count": 14,
     "metadata": {},
     "output_type": "execute_result"
    }
   ],
   "source": [
    "departments.shape, len(departments['department_id'].unique())"
   ]
  },
  {
   "cell_type": "code",
   "execution_count": 15,
   "id": "d47e71b6",
   "metadata": {},
   "outputs": [
    {
     "name": "stdout",
     "output_type": "stream",
     "text": [
      "<class 'pandas.core.frame.DataFrame'>\n",
      "RangeIndex: 21 entries, 0 to 20\n",
      "Data columns (total 2 columns):\n",
      " #   Column         Non-Null Count  Dtype \n",
      "---  ------         --------------  ----- \n",
      " 0   department_id  21 non-null     int64 \n",
      " 1   department     21 non-null     object\n",
      "dtypes: int64(1), object(1)\n",
      "memory usage: 464.0+ bytes\n"
     ]
    }
   ],
   "source": [
    "departments.info()"
   ]
  },
  {
   "cell_type": "markdown",
   "id": "df6f55fe",
   "metadata": {},
   "source": [
    "### Products"
   ]
  },
  {
   "cell_type": "code",
   "execution_count": 16,
   "id": "82efc2bd",
   "metadata": {},
   "outputs": [
    {
     "data": {
      "text/html": [
       "<div>\n",
       "<style scoped>\n",
       "    .dataframe tbody tr th:only-of-type {\n",
       "        vertical-align: middle;\n",
       "    }\n",
       "\n",
       "    .dataframe tbody tr th {\n",
       "        vertical-align: top;\n",
       "    }\n",
       "\n",
       "    .dataframe thead th {\n",
       "        text-align: right;\n",
       "    }\n",
       "</style>\n",
       "<table border=\"1\" class=\"dataframe\">\n",
       "  <thead>\n",
       "    <tr style=\"text-align: right;\">\n",
       "      <th></th>\n",
       "      <th>product_id</th>\n",
       "      <th>product_name</th>\n",
       "      <th>aisle_id</th>\n",
       "      <th>department_id</th>\n",
       "    </tr>\n",
       "  </thead>\n",
       "  <tbody>\n",
       "    <tr>\n",
       "      <th>0</th>\n",
       "      <td>1</td>\n",
       "      <td>Chocolate Sandwich Cookies</td>\n",
       "      <td>61</td>\n",
       "      <td>19</td>\n",
       "    </tr>\n",
       "    <tr>\n",
       "      <th>1</th>\n",
       "      <td>2</td>\n",
       "      <td>All-Seasons Salt</td>\n",
       "      <td>104</td>\n",
       "      <td>13</td>\n",
       "    </tr>\n",
       "    <tr>\n",
       "      <th>2</th>\n",
       "      <td>3</td>\n",
       "      <td>Robust Golden Unsweetened Oolong Tea</td>\n",
       "      <td>94</td>\n",
       "      <td>7</td>\n",
       "    </tr>\n",
       "    <tr>\n",
       "      <th>3</th>\n",
       "      <td>4</td>\n",
       "      <td>Smart Ones Classic Favorites Mini Rigatoni Wit...</td>\n",
       "      <td>38</td>\n",
       "      <td>1</td>\n",
       "    </tr>\n",
       "    <tr>\n",
       "      <th>4</th>\n",
       "      <td>5</td>\n",
       "      <td>Green Chile Anytime Sauce</td>\n",
       "      <td>5</td>\n",
       "      <td>13</td>\n",
       "    </tr>\n",
       "  </tbody>\n",
       "</table>\n",
       "</div>"
      ],
      "text/plain": [
       "   product_id                                       product_name  aisle_id  \\\n",
       "0           1                         Chocolate Sandwich Cookies        61   \n",
       "1           2                                   All-Seasons Salt       104   \n",
       "2           3               Robust Golden Unsweetened Oolong Tea        94   \n",
       "3           4  Smart Ones Classic Favorites Mini Rigatoni Wit...        38   \n",
       "4           5                          Green Chile Anytime Sauce         5   \n",
       "\n",
       "   department_id  \n",
       "0             19  \n",
       "1             13  \n",
       "2              7  \n",
       "3              1  \n",
       "4             13  "
      ]
     },
     "execution_count": 16,
     "metadata": {},
     "output_type": "execute_result"
    }
   ],
   "source": [
    "products.head()"
   ]
  },
  {
   "cell_type": "code",
   "execution_count": 17,
   "id": "b9445da5",
   "metadata": {},
   "outputs": [
    {
     "data": {
      "text/plain": [
       "((49688, 4), 49688)"
      ]
     },
     "execution_count": 17,
     "metadata": {},
     "output_type": "execute_result"
    }
   ],
   "source": [
    "products.shape, len(products['product_id'].unique())"
   ]
  },
  {
   "cell_type": "code",
   "execution_count": 18,
   "id": "8a630262",
   "metadata": {
    "scrolled": true
   },
   "outputs": [
    {
     "name": "stdout",
     "output_type": "stream",
     "text": [
      "<class 'pandas.core.frame.DataFrame'>\n",
      "RangeIndex: 49688 entries, 0 to 49687\n",
      "Data columns (total 4 columns):\n",
      " #   Column         Non-Null Count  Dtype \n",
      "---  ------         --------------  ----- \n",
      " 0   product_id     49688 non-null  int64 \n",
      " 1   product_name   49688 non-null  object\n",
      " 2   aisle_id       49688 non-null  int64 \n",
      " 3   department_id  49688 non-null  int64 \n",
      "dtypes: int64(3), object(1)\n",
      "memory usage: 1.5+ MB\n"
     ]
    }
   ],
   "source": [
    "products.info()"
   ]
  },
  {
   "cell_type": "markdown",
   "id": "ca9596d6",
   "metadata": {},
   "source": [
    "### Orders"
   ]
  },
  {
   "cell_type": "code",
   "execution_count": 19,
   "id": "bafee9b5",
   "metadata": {},
   "outputs": [
    {
     "data": {
      "text/html": [
       "<div>\n",
       "<style scoped>\n",
       "    .dataframe tbody tr th:only-of-type {\n",
       "        vertical-align: middle;\n",
       "    }\n",
       "\n",
       "    .dataframe tbody tr th {\n",
       "        vertical-align: top;\n",
       "    }\n",
       "\n",
       "    .dataframe thead th {\n",
       "        text-align: right;\n",
       "    }\n",
       "</style>\n",
       "<table border=\"1\" class=\"dataframe\">\n",
       "  <thead>\n",
       "    <tr style=\"text-align: right;\">\n",
       "      <th></th>\n",
       "      <th>order_id</th>\n",
       "      <th>user_id</th>\n",
       "      <th>eval_set</th>\n",
       "      <th>order_number</th>\n",
       "      <th>order_dow</th>\n",
       "      <th>order_hour_of_day</th>\n",
       "      <th>days_since_prior_order</th>\n",
       "    </tr>\n",
       "  </thead>\n",
       "  <tbody>\n",
       "    <tr>\n",
       "      <th>0</th>\n",
       "      <td>2539329</td>\n",
       "      <td>1</td>\n",
       "      <td>prior</td>\n",
       "      <td>1</td>\n",
       "      <td>2</td>\n",
       "      <td>8</td>\n",
       "      <td>NaN</td>\n",
       "    </tr>\n",
       "    <tr>\n",
       "      <th>1</th>\n",
       "      <td>2398795</td>\n",
       "      <td>1</td>\n",
       "      <td>prior</td>\n",
       "      <td>2</td>\n",
       "      <td>3</td>\n",
       "      <td>7</td>\n",
       "      <td>15.0</td>\n",
       "    </tr>\n",
       "    <tr>\n",
       "      <th>2</th>\n",
       "      <td>473747</td>\n",
       "      <td>1</td>\n",
       "      <td>prior</td>\n",
       "      <td>3</td>\n",
       "      <td>3</td>\n",
       "      <td>12</td>\n",
       "      <td>21.0</td>\n",
       "    </tr>\n",
       "    <tr>\n",
       "      <th>3</th>\n",
       "      <td>2254736</td>\n",
       "      <td>1</td>\n",
       "      <td>prior</td>\n",
       "      <td>4</td>\n",
       "      <td>4</td>\n",
       "      <td>7</td>\n",
       "      <td>29.0</td>\n",
       "    </tr>\n",
       "    <tr>\n",
       "      <th>4</th>\n",
       "      <td>431534</td>\n",
       "      <td>1</td>\n",
       "      <td>prior</td>\n",
       "      <td>5</td>\n",
       "      <td>4</td>\n",
       "      <td>15</td>\n",
       "      <td>28.0</td>\n",
       "    </tr>\n",
       "  </tbody>\n",
       "</table>\n",
       "</div>"
      ],
      "text/plain": [
       "   order_id  user_id eval_set  order_number  order_dow  order_hour_of_day  \\\n",
       "0   2539329        1    prior             1          2                  8   \n",
       "1   2398795        1    prior             2          3                  7   \n",
       "2    473747        1    prior             3          3                 12   \n",
       "3   2254736        1    prior             4          4                  7   \n",
       "4    431534        1    prior             5          4                 15   \n",
       "\n",
       "   days_since_prior_order  \n",
       "0                     NaN  \n",
       "1                    15.0  \n",
       "2                    21.0  \n",
       "3                    29.0  \n",
       "4                    28.0  "
      ]
     },
     "execution_count": 19,
     "metadata": {},
     "output_type": "execute_result"
    }
   ],
   "source": [
    "orders.head()"
   ]
  },
  {
   "cell_type": "code",
   "execution_count": 20,
   "id": "804be8f1",
   "metadata": {},
   "outputs": [
    {
     "data": {
      "text/plain": [
       "((3421083, 7), 3421083)"
      ]
     },
     "execution_count": 20,
     "metadata": {},
     "output_type": "execute_result"
    }
   ],
   "source": [
    "orders.shape, len(orders['order_id'].unique())"
   ]
  },
  {
   "cell_type": "code",
   "execution_count": 21,
   "id": "b90983c0",
   "metadata": {},
   "outputs": [
    {
     "data": {
      "text/plain": [
       "prior    3214874\n",
       "train     131209\n",
       "test       75000\n",
       "Name: eval_set, dtype: int64"
      ]
     },
     "execution_count": 21,
     "metadata": {},
     "output_type": "execute_result"
    }
   ],
   "source": [
    "orders['eval_set'].value_counts()"
   ]
  },
  {
   "cell_type": "markdown",
   "id": "58b496f6",
   "metadata": {},
   "source": [
    "### Order_Products_Prior  "
   ]
  },
  {
   "cell_type": "code",
   "execution_count": 22,
   "id": "dcd69cbb",
   "metadata": {},
   "outputs": [
    {
     "data": {
      "text/html": [
       "<div>\n",
       "<style scoped>\n",
       "    .dataframe tbody tr th:only-of-type {\n",
       "        vertical-align: middle;\n",
       "    }\n",
       "\n",
       "    .dataframe tbody tr th {\n",
       "        vertical-align: top;\n",
       "    }\n",
       "\n",
       "    .dataframe thead th {\n",
       "        text-align: right;\n",
       "    }\n",
       "</style>\n",
       "<table border=\"1\" class=\"dataframe\">\n",
       "  <thead>\n",
       "    <tr style=\"text-align: right;\">\n",
       "      <th></th>\n",
       "      <th>order_id</th>\n",
       "      <th>product_id</th>\n",
       "      <th>add_to_cart_order</th>\n",
       "      <th>reordered</th>\n",
       "    </tr>\n",
       "  </thead>\n",
       "  <tbody>\n",
       "    <tr>\n",
       "      <th>0</th>\n",
       "      <td>2</td>\n",
       "      <td>33120</td>\n",
       "      <td>1</td>\n",
       "      <td>1</td>\n",
       "    </tr>\n",
       "    <tr>\n",
       "      <th>1</th>\n",
       "      <td>2</td>\n",
       "      <td>28985</td>\n",
       "      <td>2</td>\n",
       "      <td>1</td>\n",
       "    </tr>\n",
       "    <tr>\n",
       "      <th>2</th>\n",
       "      <td>2</td>\n",
       "      <td>9327</td>\n",
       "      <td>3</td>\n",
       "      <td>0</td>\n",
       "    </tr>\n",
       "    <tr>\n",
       "      <th>3</th>\n",
       "      <td>2</td>\n",
       "      <td>45918</td>\n",
       "      <td>4</td>\n",
       "      <td>1</td>\n",
       "    </tr>\n",
       "    <tr>\n",
       "      <th>4</th>\n",
       "      <td>2</td>\n",
       "      <td>30035</td>\n",
       "      <td>5</td>\n",
       "      <td>0</td>\n",
       "    </tr>\n",
       "  </tbody>\n",
       "</table>\n",
       "</div>"
      ],
      "text/plain": [
       "   order_id  product_id  add_to_cart_order  reordered\n",
       "0         2       33120                  1          1\n",
       "1         2       28985                  2          1\n",
       "2         2        9327                  3          0\n",
       "3         2       45918                  4          1\n",
       "4         2       30035                  5          0"
      ]
     },
     "execution_count": 22,
     "metadata": {},
     "output_type": "execute_result"
    }
   ],
   "source": [
    "order_products_prior.head()"
   ]
  },
  {
   "cell_type": "code",
   "execution_count": 23,
   "id": "47b2b3c7",
   "metadata": {},
   "outputs": [
    {
     "data": {
      "text/plain": [
       "((32434489, 4), 3214874)"
      ]
     },
     "execution_count": 23,
     "metadata": {},
     "output_type": "execute_result"
    }
   ],
   "source": [
    "order_products_prior.shape, len(order_products_prior['order_id'].unique())"
   ]
  },
  {
   "cell_type": "code",
   "execution_count": 24,
   "id": "9e5389c2",
   "metadata": {},
   "outputs": [
    {
     "name": "stdout",
     "output_type": "stream",
     "text": [
      "<class 'pandas.core.frame.DataFrame'>\n",
      "RangeIndex: 32434489 entries, 0 to 32434488\n",
      "Data columns (total 4 columns):\n",
      " #   Column             Dtype\n",
      "---  ------             -----\n",
      " 0   order_id           int64\n",
      " 1   product_id         int64\n",
      " 2   add_to_cart_order  int64\n",
      " 3   reordered          int64\n",
      "dtypes: int64(4)\n",
      "memory usage: 989.8 MB\n"
     ]
    }
   ],
   "source": [
    "order_products_prior.info()"
   ]
  },
  {
   "cell_type": "markdown",
   "id": "276d7652",
   "metadata": {},
   "source": [
    "### Order_Products_Train"
   ]
  },
  {
   "cell_type": "code",
   "execution_count": 25,
   "id": "350e09a4",
   "metadata": {},
   "outputs": [
    {
     "data": {
      "text/html": [
       "<div>\n",
       "<style scoped>\n",
       "    .dataframe tbody tr th:only-of-type {\n",
       "        vertical-align: middle;\n",
       "    }\n",
       "\n",
       "    .dataframe tbody tr th {\n",
       "        vertical-align: top;\n",
       "    }\n",
       "\n",
       "    .dataframe thead th {\n",
       "        text-align: right;\n",
       "    }\n",
       "</style>\n",
       "<table border=\"1\" class=\"dataframe\">\n",
       "  <thead>\n",
       "    <tr style=\"text-align: right;\">\n",
       "      <th></th>\n",
       "      <th>order_id</th>\n",
       "      <th>product_id</th>\n",
       "      <th>add_to_cart_order</th>\n",
       "      <th>reordered</th>\n",
       "    </tr>\n",
       "  </thead>\n",
       "  <tbody>\n",
       "    <tr>\n",
       "      <th>0</th>\n",
       "      <td>1</td>\n",
       "      <td>49302</td>\n",
       "      <td>1</td>\n",
       "      <td>1</td>\n",
       "    </tr>\n",
       "    <tr>\n",
       "      <th>1</th>\n",
       "      <td>1</td>\n",
       "      <td>11109</td>\n",
       "      <td>2</td>\n",
       "      <td>1</td>\n",
       "    </tr>\n",
       "    <tr>\n",
       "      <th>2</th>\n",
       "      <td>1</td>\n",
       "      <td>10246</td>\n",
       "      <td>3</td>\n",
       "      <td>0</td>\n",
       "    </tr>\n",
       "    <tr>\n",
       "      <th>3</th>\n",
       "      <td>1</td>\n",
       "      <td>49683</td>\n",
       "      <td>4</td>\n",
       "      <td>0</td>\n",
       "    </tr>\n",
       "    <tr>\n",
       "      <th>4</th>\n",
       "      <td>1</td>\n",
       "      <td>43633</td>\n",
       "      <td>5</td>\n",
       "      <td>1</td>\n",
       "    </tr>\n",
       "  </tbody>\n",
       "</table>\n",
       "</div>"
      ],
      "text/plain": [
       "   order_id  product_id  add_to_cart_order  reordered\n",
       "0         1       49302                  1          1\n",
       "1         1       11109                  2          1\n",
       "2         1       10246                  3          0\n",
       "3         1       49683                  4          0\n",
       "4         1       43633                  5          1"
      ]
     },
     "execution_count": 25,
     "metadata": {},
     "output_type": "execute_result"
    }
   ],
   "source": [
    "order_products_train.head()"
   ]
  },
  {
   "cell_type": "code",
   "execution_count": 26,
   "id": "6f4c3b56",
   "metadata": {},
   "outputs": [
    {
     "data": {
      "text/plain": [
       "((1384617, 4), 131209)"
      ]
     },
     "execution_count": 26,
     "metadata": {},
     "output_type": "execute_result"
    }
   ],
   "source": [
    "order_products_train.shape, len(order_products_train['order_id'].unique())"
   ]
  },
  {
   "cell_type": "code",
   "execution_count": 27,
   "id": "415fd671",
   "metadata": {},
   "outputs": [
    {
     "name": "stdout",
     "output_type": "stream",
     "text": [
      "<class 'pandas.core.frame.DataFrame'>\n",
      "RangeIndex: 1384617 entries, 0 to 1384616\n",
      "Data columns (total 4 columns):\n",
      " #   Column             Non-Null Count    Dtype\n",
      "---  ------             --------------    -----\n",
      " 0   order_id           1384617 non-null  int64\n",
      " 1   product_id         1384617 non-null  int64\n",
      " 2   add_to_cart_order  1384617 non-null  int64\n",
      " 3   reordered          1384617 non-null  int64\n",
      "dtypes: int64(4)\n",
      "memory usage: 42.3 MB\n"
     ]
    }
   ],
   "source": [
    "order_products_train.info()"
   ]
  },
  {
   "cell_type": "markdown",
   "id": "1ab9b935",
   "metadata": {},
   "source": [
    "## 1. Merging the data"
   ]
  },
  {
   "cell_type": "code",
   "execution_count": 28,
   "id": "95f159b2",
   "metadata": {},
   "outputs": [],
   "source": [
    "#Creating a unified product dataframe\n",
    "products=pd.merge(products, aisles, on='aisle_id')\n",
    "products=pd.merge(products, departments, on='department_id')"
   ]
  },
  {
   "cell_type": "code",
   "execution_count": 29,
   "id": "b9e5f05c",
   "metadata": {},
   "outputs": [],
   "source": [
    "#Concating the orders_products train and prior df's:\n",
    "order_prod_pt = pd.concat([order_products_prior, order_products_train])"
   ]
  },
  {
   "cell_type": "code",
   "execution_count": 30,
   "id": "7c7418a7",
   "metadata": {},
   "outputs": [],
   "source": [
    "#Merging the new df with the prior and train data with the order df:\n",
    "full_orders_df=pd.merge(orders, order_prod_pt, on='order_id')"
   ]
  },
  {
   "cell_type": "code",
   "execution_count": 31,
   "id": "06665968",
   "metadata": {},
   "outputs": [],
   "source": [
    "#Final dataframe with all datasets merged\n",
    "df=pd.merge(full_orders_df, products, on='product_id')"
   ]
  },
  {
   "cell_type": "code",
   "execution_count": 32,
   "id": "6967b297",
   "metadata": {},
   "outputs": [
    {
     "data": {
      "text/html": [
       "<div>\n",
       "<style scoped>\n",
       "    .dataframe tbody tr th:only-of-type {\n",
       "        vertical-align: middle;\n",
       "    }\n",
       "\n",
       "    .dataframe tbody tr th {\n",
       "        vertical-align: top;\n",
       "    }\n",
       "\n",
       "    .dataframe thead th {\n",
       "        text-align: right;\n",
       "    }\n",
       "</style>\n",
       "<table border=\"1\" class=\"dataframe\">\n",
       "  <thead>\n",
       "    <tr style=\"text-align: right;\">\n",
       "      <th></th>\n",
       "      <th>order_id</th>\n",
       "      <th>user_id</th>\n",
       "      <th>eval_set</th>\n",
       "      <th>order_number</th>\n",
       "      <th>order_dow</th>\n",
       "      <th>order_hour_of_day</th>\n",
       "      <th>days_since_prior_order</th>\n",
       "      <th>product_id</th>\n",
       "      <th>add_to_cart_order</th>\n",
       "      <th>reordered</th>\n",
       "      <th>product_name</th>\n",
       "      <th>aisle_id</th>\n",
       "      <th>department_id</th>\n",
       "      <th>aisle</th>\n",
       "      <th>department</th>\n",
       "    </tr>\n",
       "  </thead>\n",
       "  <tbody>\n",
       "    <tr>\n",
       "      <th>0</th>\n",
       "      <td>2539329</td>\n",
       "      <td>1</td>\n",
       "      <td>prior</td>\n",
       "      <td>1</td>\n",
       "      <td>2</td>\n",
       "      <td>8</td>\n",
       "      <td>NaN</td>\n",
       "      <td>196</td>\n",
       "      <td>1</td>\n",
       "      <td>0</td>\n",
       "      <td>Soda</td>\n",
       "      <td>77</td>\n",
       "      <td>7</td>\n",
       "      <td>soft drinks</td>\n",
       "      <td>beverages</td>\n",
       "    </tr>\n",
       "    <tr>\n",
       "      <th>1</th>\n",
       "      <td>2398795</td>\n",
       "      <td>1</td>\n",
       "      <td>prior</td>\n",
       "      <td>2</td>\n",
       "      <td>3</td>\n",
       "      <td>7</td>\n",
       "      <td>15.0</td>\n",
       "      <td>196</td>\n",
       "      <td>1</td>\n",
       "      <td>1</td>\n",
       "      <td>Soda</td>\n",
       "      <td>77</td>\n",
       "      <td>7</td>\n",
       "      <td>soft drinks</td>\n",
       "      <td>beverages</td>\n",
       "    </tr>\n",
       "    <tr>\n",
       "      <th>2</th>\n",
       "      <td>473747</td>\n",
       "      <td>1</td>\n",
       "      <td>prior</td>\n",
       "      <td>3</td>\n",
       "      <td>3</td>\n",
       "      <td>12</td>\n",
       "      <td>21.0</td>\n",
       "      <td>196</td>\n",
       "      <td>1</td>\n",
       "      <td>1</td>\n",
       "      <td>Soda</td>\n",
       "      <td>77</td>\n",
       "      <td>7</td>\n",
       "      <td>soft drinks</td>\n",
       "      <td>beverages</td>\n",
       "    </tr>\n",
       "    <tr>\n",
       "      <th>3</th>\n",
       "      <td>2254736</td>\n",
       "      <td>1</td>\n",
       "      <td>prior</td>\n",
       "      <td>4</td>\n",
       "      <td>4</td>\n",
       "      <td>7</td>\n",
       "      <td>29.0</td>\n",
       "      <td>196</td>\n",
       "      <td>1</td>\n",
       "      <td>1</td>\n",
       "      <td>Soda</td>\n",
       "      <td>77</td>\n",
       "      <td>7</td>\n",
       "      <td>soft drinks</td>\n",
       "      <td>beverages</td>\n",
       "    </tr>\n",
       "    <tr>\n",
       "      <th>4</th>\n",
       "      <td>431534</td>\n",
       "      <td>1</td>\n",
       "      <td>prior</td>\n",
       "      <td>5</td>\n",
       "      <td>4</td>\n",
       "      <td>15</td>\n",
       "      <td>28.0</td>\n",
       "      <td>196</td>\n",
       "      <td>1</td>\n",
       "      <td>1</td>\n",
       "      <td>Soda</td>\n",
       "      <td>77</td>\n",
       "      <td>7</td>\n",
       "      <td>soft drinks</td>\n",
       "      <td>beverages</td>\n",
       "    </tr>\n",
       "    <tr>\n",
       "      <th>5</th>\n",
       "      <td>3367565</td>\n",
       "      <td>1</td>\n",
       "      <td>prior</td>\n",
       "      <td>6</td>\n",
       "      <td>2</td>\n",
       "      <td>7</td>\n",
       "      <td>19.0</td>\n",
       "      <td>196</td>\n",
       "      <td>1</td>\n",
       "      <td>1</td>\n",
       "      <td>Soda</td>\n",
       "      <td>77</td>\n",
       "      <td>7</td>\n",
       "      <td>soft drinks</td>\n",
       "      <td>beverages</td>\n",
       "    </tr>\n",
       "    <tr>\n",
       "      <th>6</th>\n",
       "      <td>550135</td>\n",
       "      <td>1</td>\n",
       "      <td>prior</td>\n",
       "      <td>7</td>\n",
       "      <td>1</td>\n",
       "      <td>9</td>\n",
       "      <td>20.0</td>\n",
       "      <td>196</td>\n",
       "      <td>1</td>\n",
       "      <td>1</td>\n",
       "      <td>Soda</td>\n",
       "      <td>77</td>\n",
       "      <td>7</td>\n",
       "      <td>soft drinks</td>\n",
       "      <td>beverages</td>\n",
       "    </tr>\n",
       "    <tr>\n",
       "      <th>7</th>\n",
       "      <td>3108588</td>\n",
       "      <td>1</td>\n",
       "      <td>prior</td>\n",
       "      <td>8</td>\n",
       "      <td>1</td>\n",
       "      <td>14</td>\n",
       "      <td>14.0</td>\n",
       "      <td>196</td>\n",
       "      <td>2</td>\n",
       "      <td>1</td>\n",
       "      <td>Soda</td>\n",
       "      <td>77</td>\n",
       "      <td>7</td>\n",
       "      <td>soft drinks</td>\n",
       "      <td>beverages</td>\n",
       "    </tr>\n",
       "    <tr>\n",
       "      <th>8</th>\n",
       "      <td>2295261</td>\n",
       "      <td>1</td>\n",
       "      <td>prior</td>\n",
       "      <td>9</td>\n",
       "      <td>1</td>\n",
       "      <td>16</td>\n",
       "      <td>0.0</td>\n",
       "      <td>196</td>\n",
       "      <td>4</td>\n",
       "      <td>1</td>\n",
       "      <td>Soda</td>\n",
       "      <td>77</td>\n",
       "      <td>7</td>\n",
       "      <td>soft drinks</td>\n",
       "      <td>beverages</td>\n",
       "    </tr>\n",
       "    <tr>\n",
       "      <th>9</th>\n",
       "      <td>2550362</td>\n",
       "      <td>1</td>\n",
       "      <td>prior</td>\n",
       "      <td>10</td>\n",
       "      <td>4</td>\n",
       "      <td>8</td>\n",
       "      <td>30.0</td>\n",
       "      <td>196</td>\n",
       "      <td>1</td>\n",
       "      <td>1</td>\n",
       "      <td>Soda</td>\n",
       "      <td>77</td>\n",
       "      <td>7</td>\n",
       "      <td>soft drinks</td>\n",
       "      <td>beverages</td>\n",
       "    </tr>\n",
       "    <tr>\n",
       "      <th>10</th>\n",
       "      <td>1187899</td>\n",
       "      <td>1</td>\n",
       "      <td>train</td>\n",
       "      <td>11</td>\n",
       "      <td>4</td>\n",
       "      <td>8</td>\n",
       "      <td>14.0</td>\n",
       "      <td>196</td>\n",
       "      <td>1</td>\n",
       "      <td>1</td>\n",
       "      <td>Soda</td>\n",
       "      <td>77</td>\n",
       "      <td>7</td>\n",
       "      <td>soft drinks</td>\n",
       "      <td>beverages</td>\n",
       "    </tr>\n",
       "    <tr>\n",
       "      <th>11</th>\n",
       "      <td>2968173</td>\n",
       "      <td>15</td>\n",
       "      <td>prior</td>\n",
       "      <td>15</td>\n",
       "      <td>1</td>\n",
       "      <td>9</td>\n",
       "      <td>7.0</td>\n",
       "      <td>196</td>\n",
       "      <td>2</td>\n",
       "      <td>0</td>\n",
       "      <td>Soda</td>\n",
       "      <td>77</td>\n",
       "      <td>7</td>\n",
       "      <td>soft drinks</td>\n",
       "      <td>beverages</td>\n",
       "    </tr>\n",
       "    <tr>\n",
       "      <th>12</th>\n",
       "      <td>1870022</td>\n",
       "      <td>15</td>\n",
       "      <td>prior</td>\n",
       "      <td>17</td>\n",
       "      <td>2</td>\n",
       "      <td>16</td>\n",
       "      <td>8.0</td>\n",
       "      <td>196</td>\n",
       "      <td>6</td>\n",
       "      <td>1</td>\n",
       "      <td>Soda</td>\n",
       "      <td>77</td>\n",
       "      <td>7</td>\n",
       "      <td>soft drinks</td>\n",
       "      <td>beverages</td>\n",
       "    </tr>\n",
       "    <tr>\n",
       "      <th>13</th>\n",
       "      <td>1911383</td>\n",
       "      <td>15</td>\n",
       "      <td>prior</td>\n",
       "      <td>18</td>\n",
       "      <td>2</td>\n",
       "      <td>11</td>\n",
       "      <td>7.0</td>\n",
       "      <td>196</td>\n",
       "      <td>1</td>\n",
       "      <td>1</td>\n",
       "      <td>Soda</td>\n",
       "      <td>77</td>\n",
       "      <td>7</td>\n",
       "      <td>soft drinks</td>\n",
       "      <td>beverages</td>\n",
       "    </tr>\n",
       "    <tr>\n",
       "      <th>14</th>\n",
       "      <td>2715276</td>\n",
       "      <td>15</td>\n",
       "      <td>prior</td>\n",
       "      <td>21</td>\n",
       "      <td>1</td>\n",
       "      <td>9</td>\n",
       "      <td>7.0</td>\n",
       "      <td>196</td>\n",
       "      <td>1</td>\n",
       "      <td>1</td>\n",
       "      <td>Soda</td>\n",
       "      <td>77</td>\n",
       "      <td>7</td>\n",
       "      <td>soft drinks</td>\n",
       "      <td>beverages</td>\n",
       "    </tr>\n",
       "    <tr>\n",
       "      <th>15</th>\n",
       "      <td>487368</td>\n",
       "      <td>15</td>\n",
       "      <td>prior</td>\n",
       "      <td>22</td>\n",
       "      <td>1</td>\n",
       "      <td>10</td>\n",
       "      <td>14.0</td>\n",
       "      <td>196</td>\n",
       "      <td>1</td>\n",
       "      <td>1</td>\n",
       "      <td>Soda</td>\n",
       "      <td>77</td>\n",
       "      <td>7</td>\n",
       "      <td>soft drinks</td>\n",
       "      <td>beverages</td>\n",
       "    </tr>\n",
       "    <tr>\n",
       "      <th>16</th>\n",
       "      <td>2293453</td>\n",
       "      <td>19</td>\n",
       "      <td>prior</td>\n",
       "      <td>2</td>\n",
       "      <td>5</td>\n",
       "      <td>14</td>\n",
       "      <td>6.0</td>\n",
       "      <td>196</td>\n",
       "      <td>3</td>\n",
       "      <td>0</td>\n",
       "      <td>Soda</td>\n",
       "      <td>77</td>\n",
       "      <td>7</td>\n",
       "      <td>soft drinks</td>\n",
       "      <td>beverages</td>\n",
       "    </tr>\n",
       "    <tr>\n",
       "      <th>17</th>\n",
       "      <td>1973799</td>\n",
       "      <td>19</td>\n",
       "      <td>prior</td>\n",
       "      <td>5</td>\n",
       "      <td>6</td>\n",
       "      <td>12</td>\n",
       "      <td>8.0</td>\n",
       "      <td>196</td>\n",
       "      <td>15</td>\n",
       "      <td>1</td>\n",
       "      <td>Soda</td>\n",
       "      <td>77</td>\n",
       "      <td>7</td>\n",
       "      <td>soft drinks</td>\n",
       "      <td>beverages</td>\n",
       "    </tr>\n",
       "    <tr>\n",
       "      <th>18</th>\n",
       "      <td>532817</td>\n",
       "      <td>19</td>\n",
       "      <td>prior</td>\n",
       "      <td>7</td>\n",
       "      <td>4</td>\n",
       "      <td>17</td>\n",
       "      <td>6.0</td>\n",
       "      <td>196</td>\n",
       "      <td>1</td>\n",
       "      <td>1</td>\n",
       "      <td>Soda</td>\n",
       "      <td>77</td>\n",
       "      <td>7</td>\n",
       "      <td>soft drinks</td>\n",
       "      <td>beverages</td>\n",
       "    </tr>\n",
       "    <tr>\n",
       "      <th>19</th>\n",
       "      <td>1573906</td>\n",
       "      <td>21</td>\n",
       "      <td>prior</td>\n",
       "      <td>10</td>\n",
       "      <td>3</td>\n",
       "      <td>10</td>\n",
       "      <td>6.0</td>\n",
       "      <td>196</td>\n",
       "      <td>2</td>\n",
       "      <td>0</td>\n",
       "      <td>Soda</td>\n",
       "      <td>77</td>\n",
       "      <td>7</td>\n",
       "      <td>soft drinks</td>\n",
       "      <td>beverages</td>\n",
       "    </tr>\n",
       "    <tr>\n",
       "      <th>20</th>\n",
       "      <td>1593000</td>\n",
       "      <td>31</td>\n",
       "      <td>prior</td>\n",
       "      <td>10</td>\n",
       "      <td>3</td>\n",
       "      <td>8</td>\n",
       "      <td>7.0</td>\n",
       "      <td>196</td>\n",
       "      <td>17</td>\n",
       "      <td>0</td>\n",
       "      <td>Soda</td>\n",
       "      <td>77</td>\n",
       "      <td>7</td>\n",
       "      <td>soft drinks</td>\n",
       "      <td>beverages</td>\n",
       "    </tr>\n",
       "    <tr>\n",
       "      <th>21</th>\n",
       "      <td>2231262</td>\n",
       "      <td>31</td>\n",
       "      <td>prior</td>\n",
       "      <td>17</td>\n",
       "      <td>3</td>\n",
       "      <td>11</td>\n",
       "      <td>8.0</td>\n",
       "      <td>196</td>\n",
       "      <td>14</td>\n",
       "      <td>1</td>\n",
       "      <td>Soda</td>\n",
       "      <td>77</td>\n",
       "      <td>7</td>\n",
       "      <td>soft drinks</td>\n",
       "      <td>beverages</td>\n",
       "    </tr>\n",
       "    <tr>\n",
       "      <th>22</th>\n",
       "      <td>2580647</td>\n",
       "      <td>43</td>\n",
       "      <td>prior</td>\n",
       "      <td>6</td>\n",
       "      <td>4</td>\n",
       "      <td>16</td>\n",
       "      <td>4.0</td>\n",
       "      <td>196</td>\n",
       "      <td>9</td>\n",
       "      <td>0</td>\n",
       "      <td>Soda</td>\n",
       "      <td>77</td>\n",
       "      <td>7</td>\n",
       "      <td>soft drinks</td>\n",
       "      <td>beverages</td>\n",
       "    </tr>\n",
       "    <tr>\n",
       "      <th>23</th>\n",
       "      <td>2187180</td>\n",
       "      <td>43</td>\n",
       "      <td>prior</td>\n",
       "      <td>9</td>\n",
       "      <td>4</td>\n",
       "      <td>12</td>\n",
       "      <td>3.0</td>\n",
       "      <td>196</td>\n",
       "      <td>1</td>\n",
       "      <td>1</td>\n",
       "      <td>Soda</td>\n",
       "      <td>77</td>\n",
       "      <td>7</td>\n",
       "      <td>soft drinks</td>\n",
       "      <td>beverages</td>\n",
       "    </tr>\n",
       "    <tr>\n",
       "      <th>24</th>\n",
       "      <td>2497897</td>\n",
       "      <td>52</td>\n",
       "      <td>prior</td>\n",
       "      <td>1</td>\n",
       "      <td>1</td>\n",
       "      <td>9</td>\n",
       "      <td>NaN</td>\n",
       "      <td>196</td>\n",
       "      <td>4</td>\n",
       "      <td>0</td>\n",
       "      <td>Soda</td>\n",
       "      <td>77</td>\n",
       "      <td>7</td>\n",
       "      <td>soft drinks</td>\n",
       "      <td>beverages</td>\n",
       "    </tr>\n",
       "  </tbody>\n",
       "</table>\n",
       "</div>"
      ],
      "text/plain": [
       "    order_id  user_id eval_set  order_number  order_dow  order_hour_of_day  \\\n",
       "0    2539329        1    prior             1          2                  8   \n",
       "1    2398795        1    prior             2          3                  7   \n",
       "2     473747        1    prior             3          3                 12   \n",
       "3    2254736        1    prior             4          4                  7   \n",
       "4     431534        1    prior             5          4                 15   \n",
       "5    3367565        1    prior             6          2                  7   \n",
       "6     550135        1    prior             7          1                  9   \n",
       "7    3108588        1    prior             8          1                 14   \n",
       "8    2295261        1    prior             9          1                 16   \n",
       "9    2550362        1    prior            10          4                  8   \n",
       "10   1187899        1    train            11          4                  8   \n",
       "11   2968173       15    prior            15          1                  9   \n",
       "12   1870022       15    prior            17          2                 16   \n",
       "13   1911383       15    prior            18          2                 11   \n",
       "14   2715276       15    prior            21          1                  9   \n",
       "15    487368       15    prior            22          1                 10   \n",
       "16   2293453       19    prior             2          5                 14   \n",
       "17   1973799       19    prior             5          6                 12   \n",
       "18    532817       19    prior             7          4                 17   \n",
       "19   1573906       21    prior            10          3                 10   \n",
       "20   1593000       31    prior            10          3                  8   \n",
       "21   2231262       31    prior            17          3                 11   \n",
       "22   2580647       43    prior             6          4                 16   \n",
       "23   2187180       43    prior             9          4                 12   \n",
       "24   2497897       52    prior             1          1                  9   \n",
       "\n",
       "    days_since_prior_order  product_id  add_to_cart_order  reordered  \\\n",
       "0                      NaN         196                  1          0   \n",
       "1                     15.0         196                  1          1   \n",
       "2                     21.0         196                  1          1   \n",
       "3                     29.0         196                  1          1   \n",
       "4                     28.0         196                  1          1   \n",
       "5                     19.0         196                  1          1   \n",
       "6                     20.0         196                  1          1   \n",
       "7                     14.0         196                  2          1   \n",
       "8                      0.0         196                  4          1   \n",
       "9                     30.0         196                  1          1   \n",
       "10                    14.0         196                  1          1   \n",
       "11                     7.0         196                  2          0   \n",
       "12                     8.0         196                  6          1   \n",
       "13                     7.0         196                  1          1   \n",
       "14                     7.0         196                  1          1   \n",
       "15                    14.0         196                  1          1   \n",
       "16                     6.0         196                  3          0   \n",
       "17                     8.0         196                 15          1   \n",
       "18                     6.0         196                  1          1   \n",
       "19                     6.0         196                  2          0   \n",
       "20                     7.0         196                 17          0   \n",
       "21                     8.0         196                 14          1   \n",
       "22                     4.0         196                  9          0   \n",
       "23                     3.0         196                  1          1   \n",
       "24                     NaN         196                  4          0   \n",
       "\n",
       "   product_name  aisle_id  department_id        aisle department  \n",
       "0          Soda        77              7  soft drinks  beverages  \n",
       "1          Soda        77              7  soft drinks  beverages  \n",
       "2          Soda        77              7  soft drinks  beverages  \n",
       "3          Soda        77              7  soft drinks  beverages  \n",
       "4          Soda        77              7  soft drinks  beverages  \n",
       "5          Soda        77              7  soft drinks  beverages  \n",
       "6          Soda        77              7  soft drinks  beverages  \n",
       "7          Soda        77              7  soft drinks  beverages  \n",
       "8          Soda        77              7  soft drinks  beverages  \n",
       "9          Soda        77              7  soft drinks  beverages  \n",
       "10         Soda        77              7  soft drinks  beverages  \n",
       "11         Soda        77              7  soft drinks  beverages  \n",
       "12         Soda        77              7  soft drinks  beverages  \n",
       "13         Soda        77              7  soft drinks  beverages  \n",
       "14         Soda        77              7  soft drinks  beverages  \n",
       "15         Soda        77              7  soft drinks  beverages  \n",
       "16         Soda        77              7  soft drinks  beverages  \n",
       "17         Soda        77              7  soft drinks  beverages  \n",
       "18         Soda        77              7  soft drinks  beverages  \n",
       "19         Soda        77              7  soft drinks  beverages  \n",
       "20         Soda        77              7  soft drinks  beverages  \n",
       "21         Soda        77              7  soft drinks  beverages  \n",
       "22         Soda        77              7  soft drinks  beverages  \n",
       "23         Soda        77              7  soft drinks  beverages  \n",
       "24         Soda        77              7  soft drinks  beverages  "
      ]
     },
     "execution_count": 32,
     "metadata": {},
     "output_type": "execute_result"
    }
   ],
   "source": [
    "df.head(25)"
   ]
  },
  {
   "cell_type": "code",
   "execution_count": 33,
   "id": "4486b541",
   "metadata": {},
   "outputs": [
    {
     "data": {
      "text/html": [
       "<div>\n",
       "<style scoped>\n",
       "    .dataframe tbody tr th:only-of-type {\n",
       "        vertical-align: middle;\n",
       "    }\n",
       "\n",
       "    .dataframe tbody tr th {\n",
       "        vertical-align: top;\n",
       "    }\n",
       "\n",
       "    .dataframe thead th {\n",
       "        text-align: right;\n",
       "    }\n",
       "</style>\n",
       "<table border=\"1\" class=\"dataframe\">\n",
       "  <thead>\n",
       "    <tr style=\"text-align: right;\">\n",
       "      <th></th>\n",
       "      <th>order_id</th>\n",
       "      <th>user_id</th>\n",
       "      <th>order_number</th>\n",
       "      <th>order_dow</th>\n",
       "      <th>order_hour_of_day</th>\n",
       "      <th>days_since_prior_order</th>\n",
       "      <th>product_id</th>\n",
       "      <th>add_to_cart_order</th>\n",
       "      <th>reordered</th>\n",
       "      <th>aisle_id</th>\n",
       "      <th>department_id</th>\n",
       "    </tr>\n",
       "  </thead>\n",
       "  <tbody>\n",
       "    <tr>\n",
       "      <th>count</th>\n",
       "      <td>3.381911e+07</td>\n",
       "      <td>3.381911e+07</td>\n",
       "      <td>3.381911e+07</td>\n",
       "      <td>3.381911e+07</td>\n",
       "      <td>3.381911e+07</td>\n",
       "      <td>3.174104e+07</td>\n",
       "      <td>3.381911e+07</td>\n",
       "      <td>3.381911e+07</td>\n",
       "      <td>3.381911e+07</td>\n",
       "      <td>3.381911e+07</td>\n",
       "      <td>3.381911e+07</td>\n",
       "    </tr>\n",
       "    <tr>\n",
       "      <th>mean</th>\n",
       "      <td>1.710566e+06</td>\n",
       "      <td>1.029444e+05</td>\n",
       "      <td>1.713998e+01</td>\n",
       "      <td>2.737285e+00</td>\n",
       "      <td>1.343123e+01</td>\n",
       "      <td>1.136415e+01</td>\n",
       "      <td>2.557551e+04</td>\n",
       "      <td>8.367738e+00</td>\n",
       "      <td>5.900617e-01</td>\n",
       "      <td>7.121799e+01</td>\n",
       "      <td>9.918544e+00</td>\n",
       "    </tr>\n",
       "    <tr>\n",
       "      <th>std</th>\n",
       "      <td>9.874008e+05</td>\n",
       "      <td>5.946733e+04</td>\n",
       "      <td>1.749829e+01</td>\n",
       "      <td>2.093296e+00</td>\n",
       "      <td>4.246149e+00</td>\n",
       "      <td>8.940500e+00</td>\n",
       "      <td>1.409770e+04</td>\n",
       "      <td>7.139540e+00</td>\n",
       "      <td>4.918220e-01</td>\n",
       "      <td>3.819898e+01</td>\n",
       "      <td>6.281655e+00</td>\n",
       "    </tr>\n",
       "    <tr>\n",
       "      <th>min</th>\n",
       "      <td>1.000000e+00</td>\n",
       "      <td>1.000000e+00</td>\n",
       "      <td>1.000000e+00</td>\n",
       "      <td>0.000000e+00</td>\n",
       "      <td>0.000000e+00</td>\n",
       "      <td>0.000000e+00</td>\n",
       "      <td>1.000000e+00</td>\n",
       "      <td>1.000000e+00</td>\n",
       "      <td>0.000000e+00</td>\n",
       "      <td>1.000000e+00</td>\n",
       "      <td>1.000000e+00</td>\n",
       "    </tr>\n",
       "    <tr>\n",
       "      <th>25%</th>\n",
       "      <td>8.554130e+05</td>\n",
       "      <td>5.143500e+04</td>\n",
       "      <td>5.000000e+00</td>\n",
       "      <td>1.000000e+00</td>\n",
       "      <td>1.000000e+01</td>\n",
       "      <td>5.000000e+00</td>\n",
       "      <td>1.351900e+04</td>\n",
       "      <td>3.000000e+00</td>\n",
       "      <td>0.000000e+00</td>\n",
       "      <td>3.100000e+01</td>\n",
       "      <td>4.000000e+00</td>\n",
       "    </tr>\n",
       "    <tr>\n",
       "      <th>50%</th>\n",
       "      <td>1.710660e+06</td>\n",
       "      <td>1.026260e+05</td>\n",
       "      <td>1.100000e+01</td>\n",
       "      <td>3.000000e+00</td>\n",
       "      <td>1.300000e+01</td>\n",
       "      <td>8.000000e+00</td>\n",
       "      <td>2.525600e+04</td>\n",
       "      <td>6.000000e+00</td>\n",
       "      <td>1.000000e+00</td>\n",
       "      <td>8.300000e+01</td>\n",
       "      <td>9.000000e+00</td>\n",
       "    </tr>\n",
       "    <tr>\n",
       "      <th>75%</th>\n",
       "      <td>2.565587e+06</td>\n",
       "      <td>1.544120e+05</td>\n",
       "      <td>2.400000e+01</td>\n",
       "      <td>5.000000e+00</td>\n",
       "      <td>1.600000e+01</td>\n",
       "      <td>1.500000e+01</td>\n",
       "      <td>3.793500e+04</td>\n",
       "      <td>1.100000e+01</td>\n",
       "      <td>1.000000e+00</td>\n",
       "      <td>1.070000e+02</td>\n",
       "      <td>1.600000e+01</td>\n",
       "    </tr>\n",
       "    <tr>\n",
       "      <th>max</th>\n",
       "      <td>3.421083e+06</td>\n",
       "      <td>2.062090e+05</td>\n",
       "      <td>1.000000e+02</td>\n",
       "      <td>6.000000e+00</td>\n",
       "      <td>2.300000e+01</td>\n",
       "      <td>3.000000e+01</td>\n",
       "      <td>4.968800e+04</td>\n",
       "      <td>1.450000e+02</td>\n",
       "      <td>1.000000e+00</td>\n",
       "      <td>1.340000e+02</td>\n",
       "      <td>2.100000e+01</td>\n",
       "    </tr>\n",
       "  </tbody>\n",
       "</table>\n",
       "</div>"
      ],
      "text/plain": [
       "           order_id       user_id  order_number     order_dow  \\\n",
       "count  3.381911e+07  3.381911e+07  3.381911e+07  3.381911e+07   \n",
       "mean   1.710566e+06  1.029444e+05  1.713998e+01  2.737285e+00   \n",
       "std    9.874008e+05  5.946733e+04  1.749829e+01  2.093296e+00   \n",
       "min    1.000000e+00  1.000000e+00  1.000000e+00  0.000000e+00   \n",
       "25%    8.554130e+05  5.143500e+04  5.000000e+00  1.000000e+00   \n",
       "50%    1.710660e+06  1.026260e+05  1.100000e+01  3.000000e+00   \n",
       "75%    2.565587e+06  1.544120e+05  2.400000e+01  5.000000e+00   \n",
       "max    3.421083e+06  2.062090e+05  1.000000e+02  6.000000e+00   \n",
       "\n",
       "       order_hour_of_day  days_since_prior_order    product_id  \\\n",
       "count       3.381911e+07            3.174104e+07  3.381911e+07   \n",
       "mean        1.343123e+01            1.136415e+01  2.557551e+04   \n",
       "std         4.246149e+00            8.940500e+00  1.409770e+04   \n",
       "min         0.000000e+00            0.000000e+00  1.000000e+00   \n",
       "25%         1.000000e+01            5.000000e+00  1.351900e+04   \n",
       "50%         1.300000e+01            8.000000e+00  2.525600e+04   \n",
       "75%         1.600000e+01            1.500000e+01  3.793500e+04   \n",
       "max         2.300000e+01            3.000000e+01  4.968800e+04   \n",
       "\n",
       "       add_to_cart_order     reordered      aisle_id  department_id  \n",
       "count       3.381911e+07  3.381911e+07  3.381911e+07   3.381911e+07  \n",
       "mean        8.367738e+00  5.900617e-01  7.121799e+01   9.918544e+00  \n",
       "std         7.139540e+00  4.918220e-01  3.819898e+01   6.281655e+00  \n",
       "min         1.000000e+00  0.000000e+00  1.000000e+00   1.000000e+00  \n",
       "25%         3.000000e+00  0.000000e+00  3.100000e+01   4.000000e+00  \n",
       "50%         6.000000e+00  1.000000e+00  8.300000e+01   9.000000e+00  \n",
       "75%         1.100000e+01  1.000000e+00  1.070000e+02   1.600000e+01  \n",
       "max         1.450000e+02  1.000000e+00  1.340000e+02   2.100000e+01  "
      ]
     },
     "execution_count": 33,
     "metadata": {},
     "output_type": "execute_result"
    }
   ],
   "source": [
    "df.describe()"
   ]
  },
  {
   "cell_type": "markdown",
   "id": "e97b20c0",
   "metadata": {},
   "source": [
    "## 2. Data Cleaning"
   ]
  },
  {
   "cell_type": "code",
   "execution_count": 34,
   "id": "0a334c18",
   "metadata": {},
   "outputs": [
    {
     "name": "stdout",
     "output_type": "stream",
     "text": [
      "<class 'pandas.core.frame.DataFrame'>\n",
      "Int64Index: 33819106 entries, 0 to 33819105\n",
      "Data columns (total 15 columns):\n",
      " #   Column                  Dtype  \n",
      "---  ------                  -----  \n",
      " 0   order_id                int64  \n",
      " 1   user_id                 int64  \n",
      " 2   eval_set                object \n",
      " 3   order_number            int64  \n",
      " 4   order_dow               int64  \n",
      " 5   order_hour_of_day       int64  \n",
      " 6   days_since_prior_order  float64\n",
      " 7   product_id              int64  \n",
      " 8   add_to_cart_order       int64  \n",
      " 9   reordered               int64  \n",
      " 10  product_name            object \n",
      " 11  aisle_id                int64  \n",
      " 12  department_id           int64  \n",
      " 13  aisle                   object \n",
      " 14  department              object \n",
      "dtypes: float64(1), int64(10), object(4)\n",
      "memory usage: 4.0+ GB\n"
     ]
    }
   ],
   "source": [
    "#Seeing the information of the dataset\n",
    "df.info()"
   ]
  },
  {
   "cell_type": "code",
   "execution_count": 35,
   "id": "4a94f54a",
   "metadata": {},
   "outputs": [
    {
     "data": {
      "text/plain": [
       "order_id                        0\n",
       "user_id                         0\n",
       "eval_set                        0\n",
       "order_number                    0\n",
       "order_dow                       0\n",
       "order_hour_of_day               0\n",
       "days_since_prior_order    2078068\n",
       "product_id                      0\n",
       "add_to_cart_order               0\n",
       "reordered                       0\n",
       "product_name                    0\n",
       "aisle_id                        0\n",
       "department_id                   0\n",
       "aisle                           0\n",
       "department                      0\n",
       "dtype: int64"
      ]
     },
     "execution_count": 35,
     "metadata": {},
     "output_type": "execute_result"
    }
   ],
   "source": [
    "#Seeing if we have null values:\n",
    "df.isna().sum()"
   ]
  },
  {
   "cell_type": "code",
   "execution_count": 36,
   "id": "2bae98fd",
   "metadata": {},
   "outputs": [],
   "source": [
    "#filling nulls with the days_since_prior_order per product mean\n",
    "df['days_since_prior_order']=df['days_since_prior_order'].fillna(df.groupby('product_id')['days_since_prior_order'].transform('mean'))"
   ]
  },
  {
   "cell_type": "code",
   "execution_count": 37,
   "id": "2683be40",
   "metadata": {},
   "outputs": [
    {
     "name": "stdout",
     "output_type": "stream",
     "text": [
      "195    True\n",
      "Name: days_since_prior_order, dtype: bool\n"
     ]
    }
   ],
   "source": [
    "#verify the new mean and compare above. The raw indexed as 0 had null values in the days_since_prior_order column\n",
    "y=df.groupby('product_id', as_index=False)['days_since_prior_order'].mean()\n",
    "print(y['days_since_prior_order'].loc[y['product_id']==196]==df['days_since_prior_order'].iloc[0])\n"
   ]
  },
  {
   "cell_type": "code",
   "execution_count": 38,
   "id": "e96455a4",
   "metadata": {},
   "outputs": [
    {
     "data": {
      "text/plain": [
       "order_id                   0\n",
       "user_id                    0\n",
       "eval_set                   0\n",
       "order_number               0\n",
       "order_dow                  0\n",
       "order_hour_of_day          0\n",
       "days_since_prior_order    40\n",
       "product_id                 0\n",
       "add_to_cart_order          0\n",
       "reordered                  0\n",
       "product_name               0\n",
       "aisle_id                   0\n",
       "department_id              0\n",
       "aisle                      0\n",
       "department                 0\n",
       "dtype: int64"
      ]
     },
     "execution_count": 38,
     "metadata": {},
     "output_type": "execute_result"
    }
   ],
   "source": [
    "#Seeing if we have null values:\n",
    "df.isna().sum()"
   ]
  },
  {
   "cell_type": "code",
   "execution_count": 39,
   "id": "8353ceda",
   "metadata": {},
   "outputs": [
    {
     "data": {
      "text/plain": [
       "order_id                  0\n",
       "user_id                   0\n",
       "eval_set                  0\n",
       "order_number              0\n",
       "order_dow                 0\n",
       "order_hour_of_day         0\n",
       "days_since_prior_order    0\n",
       "product_id                0\n",
       "add_to_cart_order         0\n",
       "reordered                 0\n",
       "product_name              0\n",
       "aisle_id                  0\n",
       "department_id             0\n",
       "aisle                     0\n",
       "department                0\n",
       "dtype: int64"
      ]
     },
     "execution_count": 39,
     "metadata": {},
     "output_type": "execute_result"
    }
   ],
   "source": [
    "#we are accepting 40 value=0, it is a particular product but it represents only 0.000001182% of the dataset\n",
    "df['days_since_prior_order']=df['days_since_prior_order'].fillna(0)\n",
    "df.isna().sum() "
   ]
  },
  {
   "cell_type": "code",
   "execution_count": 40,
   "id": "6c8cfaa5",
   "metadata": {},
   "outputs": [
    {
     "data": {
      "image/png": "[encoded data removed]",
      "text/plain": [
       "<Figure size 640x480 with 2 Axes>"
      ]
     },
     "metadata": {},
     "output_type": "display_data"
    }
   ],
   "source": [
    "# Graph shows little or no correlation between features\n",
    "sns.heatmap(df.corr(), annot=False, cmap='Spectral', vmin=-1, vmax=1)\n",
    "plt.show()"
   ]
  },
  {
   "cell_type": "markdown",
   "id": "59206d92",
   "metadata": {},
   "source": [
    "## 3. Reduced Dataset"
   ]
  },
  {
   "cell_type": "markdown",
   "id": "0c4c88be",
   "metadata": {},
   "source": [
    "### 3.1. Getting a random sample of the dataframe\n",
    "\n",
    "We need to sample the DataFrame before dividing it into train and validation to be sure that part of the train data is not randomly selected into the validation data."
   ]
  },
  {
   "cell_type": "code",
   "execution_count": 41,
   "id": "aa9e031b",
   "metadata": {},
   "outputs": [],
   "source": [
    "# Creating the prior DF so we can divide it:\n",
    "df_prior = df[df['eval_set'] == 'prior']"
   ]
  },
  {
   "cell_type": "code",
   "execution_count": 36,
   "id": "13c30edb",
   "metadata": {},
   "outputs": [],
   "source": [
    "# -------------------------- Samplying the data by user' -------------------------------\n",
    "\n",
    "'''\n",
    "Here it will sample X user_ids and the number of rows would be the sum of the rows of the \n",
    "users selected\n",
    "'''\n",
    "user_ids_to_sample = list(df_prior['user_id'].sample(300, random_state=rs))\n",
    "\n",
    "# filter the dataframe to only contain rows with the selected order_ids\n",
    "prior_red = df_prior[df_prior['user_id'].isin(user_ids_to_sample)]\n"
   ]
  },
  {
   "cell_type": "code",
   "execution_count": 37,
   "id": "69b06b8d",
   "metadata": {
    "scrolled": true
   },
   "outputs": [
    {
     "data": {
      "text/plain": [
       "((134610, 15), 300)"
      ]
     },
     "execution_count": 37,
     "metadata": {},
     "output_type": "execute_result"
    }
   ],
   "source": [
    "prior_red.shape, prior_red['user_id'].nunique()"
   ]
  },
  {
   "cell_type": "code",
   "execution_count": 38,
   "id": "e188459e",
   "metadata": {},
   "outputs": [],
   "source": [
    "#dropping columns that we fill that are not important as the others:\n",
    "prior_red.drop(columns=['order_id', 'user_id','aisle_id', 'department_id','product_id', 'aisle', 'product_name', 'department'], axis=1, inplace=True)"
   ]
  },
  {
   "cell_type": "markdown",
   "id": "035d0ea6",
   "metadata": {},
   "source": [
    "### 3.2. Dividing the dataset into 3 (divide the dataset into 3 using the eval_set column:\n",
    "\n",
    "- Prior --> Train\n",
    "- Train --> Validation\n",
    "- Test --> Test"
   ]
  },
  {
   "cell_type": "code",
   "execution_count": 39,
   "id": "dc57ffc6",
   "metadata": {},
   "outputs": [],
   "source": [
    "#Dividing the new prior df reduced into train and validation:\n",
    "train_data, val_data = train_test_split(prior_red, test_size=0.2)"
   ]
  },
  {
   "cell_type": "code",
   "execution_count": 40,
   "id": "6afeddb1",
   "metadata": {},
   "outputs": [],
   "source": [
    "#Test dataset:\n",
    "df_test = df[df['eval_set'] == 'train'].iloc[0:13696]"
   ]
  },
  {
   "cell_type": "markdown",
   "id": "7800c05e",
   "metadata": {},
   "source": [
    "Dropping the <i>eval_set</i> column\n",
    "\n",
    "Makes no sense to maintain the eval column after the division, so we dropt it."
   ]
  },
  {
   "cell_type": "code",
   "execution_count": 41,
   "id": "373e9140",
   "metadata": {},
   "outputs": [],
   "source": [
    "train_data.drop(['eval_set'], axis=1, inplace=True);"
   ]
  },
  {
   "cell_type": "code",
   "execution_count": 42,
   "id": "009b87c5",
   "metadata": {},
   "outputs": [],
   "source": [
    "val_data.drop(['eval_set'], axis=1, inplace=True)"
   ]
  },
  {
   "cell_type": "code",
   "execution_count": 43,
   "id": "7d7cd2a5",
   "metadata": {},
   "outputs": [],
   "source": [
    "df_test.drop(columns=['eval_set', 'order_id', 'user_id','product_id', 'aisle', 'product_name', 'department', 'aisle_id', 'department_id'], axis=1, inplace=True);"
   ]
  },
  {
   "cell_type": "code",
   "execution_count": 44,
   "id": "d8cb30e4",
   "metadata": {},
   "outputs": [
    {
     "data": {
      "text/plain": [
       "((107688, 6), (26922, 6))"
      ]
     },
     "execution_count": 44,
     "metadata": {},
     "output_type": "execute_result"
    }
   ],
   "source": [
    "train_data.shape, val_data.shape"
   ]
  },
  {
   "cell_type": "code",
   "execution_count": 45,
   "id": "e77ebd73",
   "metadata": {},
   "outputs": [
    {
     "data": {
      "text/plain": [
       "(13696, 6)"
      ]
     },
     "execution_count": 45,
     "metadata": {},
     "output_type": "execute_result"
    }
   ],
   "source": [
    "df_test.shape"
   ]
  },
  {
   "cell_type": "markdown",
   "id": "7f84d48c",
   "metadata": {},
   "source": [
    "#### Dealing with NANs"
   ]
  },
  {
   "cell_type": "code",
   "execution_count": 46,
   "id": "06f0e6cd",
   "metadata": {},
   "outputs": [
    {
     "data": {
      "text/plain": [
       "order_number              0\n",
       "order_dow                 0\n",
       "order_hour_of_day         0\n",
       "days_since_prior_order    0\n",
       "add_to_cart_order         0\n",
       "reordered                 0\n",
       "dtype: int64"
      ]
     },
     "execution_count": 46,
     "metadata": {},
     "output_type": "execute_result"
    }
   ],
   "source": [
    "train_data.isna().sum()"
   ]
  },
  {
   "cell_type": "code",
   "execution_count": 47,
   "id": "e681def4",
   "metadata": {},
   "outputs": [
    {
     "data": {
      "text/plain": [
       "order_number              0\n",
       "order_dow                 0\n",
       "order_hour_of_day         0\n",
       "days_since_prior_order    0\n",
       "add_to_cart_order         0\n",
       "reordered                 0\n",
       "dtype: int64"
      ]
     },
     "execution_count": 47,
     "metadata": {},
     "output_type": "execute_result"
    }
   ],
   "source": [
    "val_data.isna().sum()"
   ]
  },
  {
   "cell_type": "markdown",
   "id": "13e93dd1",
   "metadata": {},
   "source": [
    "## 4. Baseline Model"
   ]
  },
  {
   "cell_type": "markdown",
   "id": "68a82ac7",
   "metadata": {},
   "source": [
    "### 4.1. Data Visualization"
   ]
  },
  {
   "cell_type": "markdown",
   "id": "3b2eae03",
   "metadata": {},
   "source": [
    "#### Does our sampled data replicate the data distribution of the complete data?"
   ]
  },
  {
   "cell_type": "code",
   "execution_count": 48,
   "id": "0c1dec98",
   "metadata": {},
   "outputs": [
    {
     "data": {
      "image/png": "[encoded data removed]",
      "text/plain": [
       "<Figure size 900x300 with 1 Axes>"
      ]
     },
     "metadata": {},
     "output_type": "display_data"
    }
   ],
   "source": [
    "#order_hour_of_day distribution from the original orders:\n",
    "orders_hour = orders.groupby('order_hour_of_day')['order_number'].count().to_frame('number_of_orders_each_hour')\n",
    "plt.figure(figsize=(9,3))\n",
    "sns.barplot(orders_hour.index, orders_hour.number_of_orders_each_hour, order=orders_hour.index)\n",
    "plt.xlabel('hour of the day', size=15)\n",
    "plt.ylabel('Total orders per hour', size=15)\n",
    "plt.xticks(size=12, rotation=90)\n",
    "plt.show();"
   ]
  },
  {
   "cell_type": "code",
   "execution_count": 49,
   "id": "3665929a",
   "metadata": {},
   "outputs": [
    {
     "data": {
      "image/png": "[encoded data removed]",
      "text/plain": [
       "<Figure size 900x300 with 1 Axes>"
      ]
     },
     "metadata": {},
     "output_type": "display_data"
    }
   ],
   "source": [
    "#order_hour_of_day distribution from the train data (sampled):\n",
    "train_hour = train_data.groupby('order_hour_of_day')['order_number'].count().to_frame('number_of_orders_each_hour')\n",
    "plt.figure(figsize=(9,3))\n",
    "sns.barplot(train_hour.index, train_hour.number_of_orders_each_hour, order=train_hour.index)\n",
    "plt.xlabel('hour of the day', size=15)\n",
    "plt.ylabel('Total orders per hour', size=15)\n",
    "plt.xticks(size=12, rotation=90)\n",
    "plt.show();"
   ]
  },
  {
   "cell_type": "markdown",
   "id": "4fff944c",
   "metadata": {},
   "source": [
    "As both graphs look very similar we concluded that our random samplying replicates pretty well the overall distribution and proportion of the orginal data."
   ]
  },
  {
   "cell_type": "markdown",
   "id": "91e96693",
   "metadata": {},
   "source": [
    "### 4.2. Preprocessing"
   ]
  },
  {
   "cell_type": "code",
   "execution_count": 50,
   "id": "c722482a",
   "metadata": {},
   "outputs": [],
   "source": [
    "train_data['days_since_prior_order'] = train_data['days_since_prior_order'].astype('int8')"
   ]
  },
  {
   "cell_type": "code",
   "execution_count": 51,
   "id": "52f7d142",
   "metadata": {
    "scrolled": false
   },
   "outputs": [
    {
     "name": "stdout",
     "output_type": "stream",
     "text": [
      "<class 'pandas.core.frame.DataFrame'>\n",
      "Int64Index: 107688 entries, 25185383 to 30213723\n",
      "Data columns (total 6 columns):\n",
      " #   Column                  Non-Null Count   Dtype\n",
      "---  ------                  --------------   -----\n",
      " 0   order_number            107688 non-null  int64\n",
      " 1   order_dow               107688 non-null  int64\n",
      " 2   order_hour_of_day       107688 non-null  int64\n",
      " 3   days_since_prior_order  107688 non-null  int8 \n",
      " 4   add_to_cart_order       107688 non-null  int64\n",
      " 5   reordered               107688 non-null  int64\n",
      "dtypes: int64(5), int8(1)\n",
      "memory usage: 5.0 MB\n"
     ]
    }
   ],
   "source": [
    "train_data.info()"
   ]
  },
  {
   "cell_type": "code",
   "execution_count": 52,
   "id": "07ba6a52",
   "metadata": {},
   "outputs": [
    {
     "data": {
      "text/plain": [
       "Index(['order_number', 'order_dow', 'order_hour_of_day',\n",
       "       'days_since_prior_order', 'add_to_cart_order', 'reordered'],\n",
       "      dtype='object')"
      ]
     },
     "execution_count": 52,
     "metadata": {},
     "output_type": "execute_result"
    }
   ],
   "source": [
    "train_data.columns"
   ]
  },
  {
   "cell_type": "markdown",
   "id": "56ec10a9",
   "metadata": {},
   "source": [
    "### 4.3. Splitting the data into the predicting values ​​X and the class y "
   ]
  },
  {
   "cell_type": "code",
   "execution_count": 53,
   "id": "5f7a1eb6",
   "metadata": {},
   "outputs": [],
   "source": [
    "#Spliting the train data:\n",
    "X_train = train_data.drop('reordered', axis=1)\n",
    "y_train = train_data['reordered']\n",
    "\n",
    "#Splitting the validation data:\n",
    "X_val = val_data.drop('reordered', axis=1)\n",
    "y_val = val_data['reordered']\n",
    "\n",
    "#Splitting the Test data:\n",
    "X_test = df_test.drop('reordered', axis=1)\n",
    "y_test = df_test['reordered']"
   ]
  },
  {
   "cell_type": "code",
   "execution_count": 54,
   "id": "5db652de",
   "metadata": {},
   "outputs": [],
   "source": [
    "#Preprocessing this Data:\n",
    "scaler = MinMaxScaler()\n",
    "X_train = scaler.fit_transform(X_train, y_train)\n",
    "X_val = scaler.transform(X_val)\n",
    "X_test = scaler.transform(X_test)"
   ]
  },
  {
   "cell_type": "markdown",
   "id": "d6855907",
   "metadata": {},
   "source": [
    "### 4.4. Running Models"
   ]
  },
  {
   "cell_type": "markdown",
   "id": "742cb638",
   "metadata": {},
   "source": [
    "#### 4.4.1 Decision Tree Model\n",
    "\n",
    "We know that a decision tree is too simple of a model, but we wanted to begin with the simplest one before trying random forest and XGBoost."
   ]
  },
  {
   "cell_type": "code",
   "execution_count": 55,
   "id": "98c3eee5",
   "metadata": {},
   "outputs": [],
   "source": [
    "#Creating and fitting the Decision Tree model:\n",
    "model_tree = DecisionTreeClassifier(criterion=\"entropy\", random_state = rs)\n",
    "model_tree.fit(X_train, y_train);"
   ]
  },
  {
   "cell_type": "code",
   "execution_count": 56,
   "id": "118e0733",
   "metadata": {},
   "outputs": [
    {
     "name": "stdout",
     "output_type": "stream",
     "text": [
      "The accuracy on test set is 72.9%\n",
      "The maximum depth of the tree fitted on X_train is 38\n"
     ]
    }
   ],
   "source": [
    "#Predicting:\n",
    "y_tree = model_tree.predict(X_val)\n",
    "\n",
    "#Seeing the accuracy:\n",
    "accuracy_ho = accuracy_score(y_val, y_tree) * 100\n",
    "\n",
    "#Understanding the max_depth and preparing a varible for a loop validation:\n",
    "max_depth = model_tree.tree_.max_depth\n",
    "parameter_values = range(1,max_depth+1)\n",
    "\n",
    "print(\"The accuracy on test set is {0:.1f}%\".format(accuracy_ho))\n",
    "print(\"The maximum depth of the tree fitted on X_train is {}\".format(max_depth))"
   ]
  },
  {
   "cell_type": "markdown",
   "id": "487adc75",
   "metadata": {},
   "source": [
    "\t--------------------------------- Observation ---------------------------------\n",
    "    \n",
    "    We were surprised by the accuracy of the Decision Tree Classifier. Maybe this is not a complex problem as we thought. Maybe the other more complex models will tend to overfit. Still, we will try them anyway. But first let's try to improve de Decision Tree model a little bit more.\n",
    "    \n",
    "\t-------------------------------------------------------------------------------"
   ]
  },
  {
   "cell_type": "code",
   "execution_count": 57,
   "id": "12ca742b",
   "metadata": {},
   "outputs": [
    {
     "name": "stdout",
     "output_type": "stream",
     "text": [
      "[0.7499628556570834, 0.7499628556570834, 0.7520615110318699, 0.7559616670381102, 0.7568624173538371, 0.7575774459549812, 0.7574845850976896, 0.7568345590966495, 0.7580138919842508, 0.7575495876977936, 0.7576053042121685, 0.757577445954981, 0.7563888269816507, 0.7540115890349899, 0.7503342990862492, 0.7475577594532353, 0.7443819181338682, 0.7409739246712724, 0.7364516009211797, 0.732393581457544, 0.729552039224426, 0.7276391055642226, 0.7252897258747493, 0.7219931654409034, 0.7199130822375753, 0.7196159274942427, 0.7186780328355992, 0.7179630042344551, 0.7191701953792439, 0.7190494762647649, 0.7186223163212242, 0.7189844736646608, 0.7185851719783077, 0.7187987519500779, 0.7188173241215363, 0.7189751875789318, 0.7188916128073695, 0.7188916128073695]\n"
     ]
    }
   ],
   "source": [
    "avg_scores = []\n",
    "for par in parameter_values:\n",
    "    estimator = DecisionTreeClassifier(criterion=\"entropy\"\n",
    "                                            , max_depth = par\n",
    "                                            , random_state = rs\n",
    "                                            )\n",
    "    scores = cross_val_score(estimator, X_train, y_train\n",
    "                             , scoring='accuracy', cv = cv)\n",
    "    # cross_val_score produces an array with one score for each fold\n",
    "    avg_scores.append(np.mean(scores))\n",
    "print(avg_scores)"
   ]
  },
  {
   "cell_type": "code",
   "execution_count": 58,
   "id": "da2422df",
   "metadata": {},
   "outputs": [
    {
     "name": "stdout",
     "output_type": "stream",
     "text": [
      "The accuracy on test set tuned with cross_validation is 82.1% with depth 9\n"
     ]
    }
   ],
   "source": [
    "top_par_cv = parameter_values[np.argmax(avg_scores)]\n",
    "estimator_best = DecisionTreeClassifier(criterion=\"entropy\", max_depth = top_par_cv, random_state=rs)\n",
    "estimator_best.fit(X_train,y_train);\n",
    "y_predicted = estimator_best.predict(X_test)\n",
    "accuracy_cv = accuracy_score(y_test, y_predicted) * 100\n",
    "print(\"The accuracy on test set tuned with cross_validation is {:.1f}% with depth {}\".format(accuracy_cv, top_par_cv))"
   ]
  },
  {
   "cell_type": "code",
   "execution_count": 59,
   "id": "da780fe7",
   "metadata": {},
   "outputs": [
    {
     "name": "stdout",
     "output_type": "stream",
     "text": [
      "              precision    recall  f1-score   support\n",
      "\n",
      "           0       0.34      0.19      0.24      2075\n",
      "           1       0.87      0.93      0.90     11621\n",
      "\n",
      "    accuracy                           0.82     13696\n",
      "   macro avg       0.60      0.56      0.57     13696\n",
      "weighted avg       0.79      0.82      0.80     13696\n",
      "\n"
     ]
    }
   ],
   "source": [
    "#Classitication Report on the DT model:\n",
    "print(classification_report(y_test, y_predicted))"
   ]
  },
  {
   "cell_type": "code",
   "execution_count": 60,
   "id": "1e9b5aba",
   "metadata": {},
   "outputs": [],
   "source": [
    "#Confusion matrix in the DT model:\n",
    "tree_matrix = confusion_matrix(y_test, y_predicted)"
   ]
  },
  {
   "cell_type": "code",
   "execution_count": 61,
   "id": "0d04dfcc",
   "metadata": {},
   "outputs": [
    {
     "data": {
      "image/png": "[encoded data removed]",
      "text/plain": [
       "<Figure size 400x400 with 2 Axes>"
      ]
     },
     "metadata": {},
     "output_type": "display_data"
    }
   ],
   "source": [
    "#Plotting the Confusion Matrix in a more vivid and clear way:\n",
    "plt.rcParams['figure.figsize'] = [4, 4]\n",
    "disp_tree = ConfusionMatrixDisplay(confusion_matrix=tree_matrix,\n",
    "                 display_labels=estimator_best.classes_);\n",
    "disp_tree.plot();"
   ]
  },
  {
   "cell_type": "markdown",
   "id": "a8c3050c",
   "metadata": {},
   "source": [
    "### 4.5. Fine Tunning"
   ]
  },
  {
   "cell_type": "markdown",
   "id": "9c1ac92d",
   "metadata": {},
   "source": [
    "#### 4.5.1. RandomSearchCV\n",
    "\n",
    "We saw that our simple model was overffiting so we decided to limit the max_depth paramter between 10 to 21. ALso, we decided for the RandomSearchCV instead of the GridSearch because the RandomSearchCV oud impose less computational power."
   ]
  },
  {
   "cell_type": "code",
   "execution_count": 62,
   "id": "c013c7e0",
   "metadata": {},
   "outputs": [],
   "source": [
    "#Definning our models and the params that we will try for each of them:\n",
    "model_lbls = ['dt' # decision tree\n",
    "             ,'xgb' # XGBoost\n",
    "             ,'rf' # Random Forest\n",
    "             ,'knn' #KNN classifier\n",
    "            ]\n",
    "\n",
    "models = {\n",
    "    'dt': {'name': 'Decision Tree       ',\n",
    "           'estimator': DecisionTreeClassifier(random_state=rs), \n",
    "           'param': [{'criterion': ['gini', 'entropy']\n",
    "                      , 'min_samples_split': [*range(1,10)]\n",
    "                      , 'max_depth': [*range(1,max_depth+1)]\n",
    "                      , 'class_weight':[None,'balanced']\n",
    "                      , 'min_samples_leaf': [*range(1,10)]\n",
    "          }]},\n",
    "    \n",
    "    'xgb':{'name': 'XGBoost           ',\n",
    "           'estimator': XGBClassifier(random_state=rs),\n",
    "           'param': [{'n_estimators':[10, 20, 30, 40 ],\n",
    "                     'learning_rate':[0.001, 0.005, 0.01],\n",
    "                     'n_jobs': [None, -1]\n",
    "          }]},\n",
    "    \n",
    "    'rf': {'name': 'Random Forest       ',\n",
    "           'estimator': RandomForestClassifier(random_state=rs),\n",
    "           'param': [{'criterion': ['gini', 'entropy']\n",
    "                     ,'max_depth': [*range(4,max_depth+1)]\n",
    "                     ,'n_estimators':[*range(10,60,10)]\n",
    "                     ,'min_samples_leaf': [*range(1,10)]\n",
    "                     ,'min_samples_split': [*range(1,10)]\n",
    "          }]}, \n",
    "    'knn':{'name': 'K Nearest Neighbor ',\n",
    "           'estimator': KNeighborsClassifier(),\n",
    "           'param': [{'n_neighbors': [2],\n",
    "                      'weights' : ['uniform', 'distance'],\n",
    "                      'metric': ['euclidean', 'manhattan', 'cityblock'],\n",
    "           }]}\n",
    "}"
   ]
  },
  {
   "cell_type": "code",
   "execution_count": 63,
   "id": "82e42980",
   "metadata": {},
   "outputs": [],
   "source": [
    "scorings = ['accuracy','precision_macro','recall_macro','f1_macro']"
   ]
  },
  {
   "cell_type": "code",
   "execution_count": 64,
   "id": "57c92210",
   "metadata": {},
   "outputs": [
    {
     "name": "stdout",
     "output_type": "stream",
     "text": [
      "Fitting 3 folds for each of 200 candidates, totalling 600 fits\n",
      "Fitting 3 folds for each of 200 candidates, totalling 600 fits\n",
      "Fitting 3 folds for each of 200 candidates, totalling 600 fits\n",
      "Fitting 3 folds for each of 200 candidates, totalling 600 fits\n",
      "Fitting 3 folds for each of 24 candidates, totalling 72 fits\n",
      "Fitting 3 folds for each of 24 candidates, totalling 72 fits\n",
      "Fitting 3 folds for each of 24 candidates, totalling 72 fits\n",
      "Fitting 3 folds for each of 24 candidates, totalling 72 fits\n",
      "Fitting 3 folds for each of 200 candidates, totalling 600 fits\n",
      "Fitting 3 folds for each of 200 candidates, totalling 600 fits\n",
      "Fitting 3 folds for each of 200 candidates, totalling 600 fits\n",
      "Fitting 3 folds for each of 200 candidates, totalling 600 fits\n",
      "Fitting 3 folds for each of 6 candidates, totalling 18 fits\n",
      "Fitting 3 folds for each of 6 candidates, totalling 18 fits\n",
      "Fitting 3 folds for each of 6 candidates, totalling 18 fits\n",
      "Fitting 3 folds for each of 6 candidates, totalling 18 fits\n"
     ]
    }
   ],
   "source": [
    "#Running a GridSearch for each model and each different combination of params:\n",
    "clfs = []\n",
    "my_models = pd.DataFrame(columns=['scoring','model','best_params','accuracy','precision_macro',\n",
    "                                  'recall_macro','f1_macro'])\n",
    "for model in model_lbls:\n",
    "    for scoring in scorings:\n",
    "        clf = RandomizedSearchCV(models[model]['estimator'], models[model]['param'], cv=cv,\n",
    "                           scoring = scoring, n_jobs=-1, n_iter=200, verbose=2\n",
    "                           )\n",
    "        #Appending the clfs list with each clf fit\n",
    "        clf.fit(X_train, y_train)\n",
    "        clfs.append(clf)\n",
    "        \n",
    "        #creating the accuracy variable\n",
    "        y_pred = clf.predict(X_val)\n",
    "        accuracy = accuracy_score(y_val,y_pred)\n",
    "        \n",
    "        \n",
    "        cr = classification_report(y_val,y_pred, output_dict=True)\n",
    "        \n",
    "        #creating the precision_macro variable\n",
    "        precision_macro = precision_score(y_val, y_pred, average='macro')\n",
    "        \n",
    "        #creating the recall_macro variable\n",
    "        recall_macro = recall_score(y_val, y_pred, average='macro')\n",
    "        \n",
    "        #creating the f1_macro variable\n",
    "        f1_macro = f1_score(y_val, y_pred, average='macro')\n",
    "        \n",
    "        best_params = clf.best_params_\n",
    "        \n",
    "        #Appending the dataset row by row\n",
    "        row = [scoring, model, best_params, accuracy, precision_macro, recall_macro, f1_macro]\n",
    "        my_models.loc[len(my_models)] = row\n",
    "        "
   ]
  },
  {
   "cell_type": "code",
   "execution_count": 65,
   "id": "0fb0af53",
   "metadata": {},
   "outputs": [
    {
     "data": {
      "text/html": [
       "<div>\n",
       "<style scoped>\n",
       "    .dataframe tbody tr th:only-of-type {\n",
       "        vertical-align: middle;\n",
       "    }\n",
       "\n",
       "    .dataframe tbody tr th {\n",
       "        vertical-align: top;\n",
       "    }\n",
       "\n",
       "    .dataframe thead th {\n",
       "        text-align: right;\n",
       "    }\n",
       "</style>\n",
       "<table border=\"1\" class=\"dataframe\">\n",
       "  <thead>\n",
       "    <tr style=\"text-align: right;\">\n",
       "      <th></th>\n",
       "      <th>scoring</th>\n",
       "      <th>model</th>\n",
       "      <th>best_params</th>\n",
       "      <th>accuracy</th>\n",
       "      <th>precision_macro</th>\n",
       "      <th>recall_macro</th>\n",
       "      <th>f1_macro</th>\n",
       "    </tr>\n",
       "  </thead>\n",
       "  <tbody>\n",
       "    <tr>\n",
       "      <th>0</th>\n",
       "      <td>accuracy</td>\n",
       "      <td>dt</td>\n",
       "      <td>{'min_samples_split': 2, 'min_samples_leaf': 2...</td>\n",
       "      <td>0.758042</td>\n",
       "      <td>0.719503</td>\n",
       "      <td>0.645197</td>\n",
       "      <td>0.658558</td>\n",
       "    </tr>\n",
       "    <tr>\n",
       "      <th>1</th>\n",
       "      <td>precision_macro</td>\n",
       "      <td>dt</td>\n",
       "      <td>{'min_samples_split': 6, 'min_samples_leaf': 2...</td>\n",
       "      <td>0.756222</td>\n",
       "      <td>0.726250</td>\n",
       "      <td>0.630649</td>\n",
       "      <td>0.641953</td>\n",
       "    </tr>\n",
       "    <tr>\n",
       "      <th>2</th>\n",
       "      <td>recall_macro</td>\n",
       "      <td>dt</td>\n",
       "      <td>{'min_samples_split': 3, 'min_samples_leaf': 2...</td>\n",
       "      <td>0.704257</td>\n",
       "      <td>0.665862</td>\n",
       "      <td>0.688617</td>\n",
       "      <td>0.670509</td>\n",
       "    </tr>\n",
       "    <tr>\n",
       "      <th>3</th>\n",
       "      <td>f1_macro</td>\n",
       "      <td>dt</td>\n",
       "      <td>{'min_samples_split': 3, 'min_samples_leaf': 3...</td>\n",
       "      <td>0.751430</td>\n",
       "      <td>0.698781</td>\n",
       "      <td>0.677464</td>\n",
       "      <td>0.685452</td>\n",
       "    </tr>\n",
       "    <tr>\n",
       "      <th>4</th>\n",
       "      <td>accuracy</td>\n",
       "      <td>xgb</td>\n",
       "      <td>{'n_jobs': None, 'n_estimators': 40, 'learning...</td>\n",
       "      <td>0.757410</td>\n",
       "      <td>0.734108</td>\n",
       "      <td>0.627439</td>\n",
       "      <td>0.637984</td>\n",
       "    </tr>\n",
       "    <tr>\n",
       "      <th>5</th>\n",
       "      <td>precision_macro</td>\n",
       "      <td>xgb</td>\n",
       "      <td>{'n_jobs': None, 'n_estimators': 30, 'learning...</td>\n",
       "      <td>0.758116</td>\n",
       "      <td>0.736356</td>\n",
       "      <td>0.627757</td>\n",
       "      <td>0.638369</td>\n",
       "    </tr>\n",
       "    <tr>\n",
       "      <th>6</th>\n",
       "      <td>recall_macro</td>\n",
       "      <td>xgb</td>\n",
       "      <td>{'n_jobs': None, 'n_estimators': 40, 'learning...</td>\n",
       "      <td>0.757410</td>\n",
       "      <td>0.734108</td>\n",
       "      <td>0.627439</td>\n",
       "      <td>0.637984</td>\n",
       "    </tr>\n",
       "    <tr>\n",
       "      <th>7</th>\n",
       "      <td>f1_macro</td>\n",
       "      <td>xgb</td>\n",
       "      <td>{'n_jobs': None, 'n_estimators': 40, 'learning...</td>\n",
       "      <td>0.757410</td>\n",
       "      <td>0.734108</td>\n",
       "      <td>0.627439</td>\n",
       "      <td>0.637984</td>\n",
       "    </tr>\n",
       "    <tr>\n",
       "      <th>8</th>\n",
       "      <td>accuracy</td>\n",
       "      <td>rf</td>\n",
       "      <td>{'n_estimators': 40, 'min_samples_split': 8, '...</td>\n",
       "      <td>0.783857</td>\n",
       "      <td>0.758353</td>\n",
       "      <td>0.684369</td>\n",
       "      <td>0.702399</td>\n",
       "    </tr>\n",
       "    <tr>\n",
       "      <th>9</th>\n",
       "      <td>precision_macro</td>\n",
       "      <td>rf</td>\n",
       "      <td>{'n_estimators': 30, 'min_samples_split': 5, '...</td>\n",
       "      <td>0.752842</td>\n",
       "      <td>0.764583</td>\n",
       "      <td>0.600422</td>\n",
       "      <td>0.599991</td>\n",
       "    </tr>\n",
       "    <tr>\n",
       "      <th>10</th>\n",
       "      <td>recall_macro</td>\n",
       "      <td>rf</td>\n",
       "      <td>{'n_estimators': 30, 'min_samples_split': 2, '...</td>\n",
       "      <td>0.770299</td>\n",
       "      <td>0.725443</td>\n",
       "      <td>0.692570</td>\n",
       "      <td>0.703965</td>\n",
       "    </tr>\n",
       "    <tr>\n",
       "      <th>11</th>\n",
       "      <td>f1_macro</td>\n",
       "      <td>rf</td>\n",
       "      <td>{'n_estimators': 50, 'min_samples_split': 2, '...</td>\n",
       "      <td>0.775871</td>\n",
       "      <td>0.735938</td>\n",
       "      <td>0.691082</td>\n",
       "      <td>0.705052</td>\n",
       "    </tr>\n",
       "    <tr>\n",
       "      <th>12</th>\n",
       "      <td>accuracy</td>\n",
       "      <td>knn</td>\n",
       "      <td>{'weights': 'distance', 'n_neighbors': 2, 'met...</td>\n",
       "      <td>0.761422</td>\n",
       "      <td>0.714672</td>\n",
       "      <td>0.720672</td>\n",
       "      <td>0.717446</td>\n",
       "    </tr>\n",
       "    <tr>\n",
       "      <th>13</th>\n",
       "      <td>precision_macro</td>\n",
       "      <td>knn</td>\n",
       "      <td>{'weights': 'distance', 'n_neighbors': 2, 'met...</td>\n",
       "      <td>0.761422</td>\n",
       "      <td>0.714672</td>\n",
       "      <td>0.720672</td>\n",
       "      <td>0.717446</td>\n",
       "    </tr>\n",
       "    <tr>\n",
       "      <th>14</th>\n",
       "      <td>recall_macro</td>\n",
       "      <td>knn</td>\n",
       "      <td>{'weights': 'uniform', 'n_neighbors': 2, 'metr...</td>\n",
       "      <td>0.737241</td>\n",
       "      <td>0.709776</td>\n",
       "      <td>0.745475</td>\n",
       "      <td>0.714017</td>\n",
       "    </tr>\n",
       "    <tr>\n",
       "      <th>15</th>\n",
       "      <td>f1_macro</td>\n",
       "      <td>knn</td>\n",
       "      <td>{'weights': 'distance', 'n_neighbors': 2, 'met...</td>\n",
       "      <td>0.761422</td>\n",
       "      <td>0.714672</td>\n",
       "      <td>0.720672</td>\n",
       "      <td>0.717446</td>\n",
       "    </tr>\n",
       "  </tbody>\n",
       "</table>\n",
       "</div>"
      ],
      "text/plain": [
       "            scoring model                                        best_params  \\\n",
       "0          accuracy    dt  {'min_samples_split': 2, 'min_samples_leaf': 2...   \n",
       "1   precision_macro    dt  {'min_samples_split': 6, 'min_samples_leaf': 2...   \n",
       "2      recall_macro    dt  {'min_samples_split': 3, 'min_samples_leaf': 2...   \n",
       "3          f1_macro    dt  {'min_samples_split': 3, 'min_samples_leaf': 3...   \n",
       "4          accuracy   xgb  {'n_jobs': None, 'n_estimators': 40, 'learning...   \n",
       "5   precision_macro   xgb  {'n_jobs': None, 'n_estimators': 30, 'learning...   \n",
       "6      recall_macro   xgb  {'n_jobs': None, 'n_estimators': 40, 'learning...   \n",
       "7          f1_macro   xgb  {'n_jobs': None, 'n_estimators': 40, 'learning...   \n",
       "8          accuracy    rf  {'n_estimators': 40, 'min_samples_split': 8, '...   \n",
       "9   precision_macro    rf  {'n_estimators': 30, 'min_samples_split': 5, '...   \n",
       "10     recall_macro    rf  {'n_estimators': 30, 'min_samples_split': 2, '...   \n",
       "11         f1_macro    rf  {'n_estimators': 50, 'min_samples_split': 2, '...   \n",
       "12         accuracy   knn  {'weights': 'distance', 'n_neighbors': 2, 'met...   \n",
       "13  precision_macro   knn  {'weights': 'distance', 'n_neighbors': 2, 'met...   \n",
       "14     recall_macro   knn  {'weights': 'uniform', 'n_neighbors': 2, 'metr...   \n",
       "15         f1_macro   knn  {'weights': 'distance', 'n_neighbors': 2, 'met...   \n",
       "\n",
       "    accuracy  precision_macro  recall_macro  f1_macro  \n",
       "0   0.758042         0.719503      0.645197  0.658558  \n",
       "1   0.756222         0.726250      0.630649  0.641953  \n",
       "2   0.704257         0.665862      0.688617  0.670509  \n",
       "3   0.751430         0.698781      0.677464  0.685452  \n",
       "4   0.757410         0.734108      0.627439  0.637984  \n",
       "5   0.758116         0.736356      0.627757  0.638369  \n",
       "6   0.757410         0.734108      0.627439  0.637984  \n",
       "7   0.757410         0.734108      0.627439  0.637984  \n",
       "8   0.783857         0.758353      0.684369  0.702399  \n",
       "9   0.752842         0.764583      0.600422  0.599991  \n",
       "10  0.770299         0.725443      0.692570  0.703965  \n",
       "11  0.775871         0.735938      0.691082  0.705052  \n",
       "12  0.761422         0.714672      0.720672  0.717446  \n",
       "13  0.761422         0.714672      0.720672  0.717446  \n",
       "14  0.737241         0.709776      0.745475  0.714017  \n",
       "15  0.761422         0.714672      0.720672  0.717446  "
      ]
     },
     "execution_count": 65,
     "metadata": {},
     "output_type": "execute_result"
    }
   ],
   "source": [
    "#Plotting our models dataframe:\n",
    "my_models"
   ]
  },
  {
   "cell_type": "code",
   "execution_count": 66,
   "id": "14255870",
   "metadata": {},
   "outputs": [
    {
     "name": "stdout",
     "output_type": "stream",
     "text": [
      "Best Accuracy model is rf using this best parameters: {'n_estimators': 40, 'min_samples_split': 8, 'min_samples_leaf': 1, 'max_depth': 32, 'criterion': 'entropy'}.\n",
      "------------------------------------------------------------------------------------------\n",
      "Best Precision model is rf using this best parameters: {'n_estimators': 30, 'min_samples_split': 5, 'min_samples_leaf': 6, 'max_depth': 4, 'criterion': 'entropy'}.\n",
      "------------------------------------------------------------------------------------------\n",
      "Best Recall model is knn using this best parameters: {'weights': 'uniform', 'n_neighbors': 2, 'metric': 'manhattan'}.\n",
      "------------------------------------------------------------------------------------------\n",
      "Best F1 model is knn using this best parameters: {'weights': 'distance', 'n_neighbors': 2, 'metric': 'manhattan'}.\n"
     ]
    }
   ],
   "source": [
    "#Seeing our best model for each score type:\n",
    "\n",
    "print(\"Best Accuracy model is {} using this best parameters: {}.\".format(my_models['model'].loc[my_models['accuracy'].argmax()], \n",
    "                                                                        my_models['best_params'].loc[my_models['accuracy'].argmax()]))\n",
    "print('-'*90)\n",
    "\n",
    "print(\"Best Precision model is {} using this best parameters: {}.\".format(my_models['model'].loc[my_models['precision_macro'].argmax()], \n",
    "                                                                        my_models['best_params'].loc[my_models['precision_macro'].argmax()]))\n",
    "print('-'*90)\n",
    "\n",
    "print(\"Best Recall model is {} using this best parameters: {}.\".format(my_models['model'].loc[my_models['recall_macro'].argmax()], \n",
    "                                                                        my_models['best_params'].loc[my_models['recall_macro'].argmax()]))\n",
    "print('-'*90)\n",
    "\n",
    "print(\"Best F1 model is {} using this best parameters: {}.\".format(my_models['model'].loc[my_models['f1_macro'].argmax()], \n",
    "                                                                        my_models['best_params'].loc[my_models['f1_macro'].argmax()]))\n"
   ]
  },
  {
   "cell_type": "markdown",
   "id": "a5a7876b",
   "metadata": {},
   "source": [
    "\t--------------------------------- Observation ---------------------------------\n",
    "    \n",
    "It seems that our model is overfiting, because it is always running with the same efficiency no matter the parameters. What we could do here is to test our models with a new data that it never saw before to see how well it can reproduce its scoring results. Also, we could try the early stopping with the XGBClassifier. \n",
    "\n",
    "\t-------------------------------------------------------------------------------"
   ]
  },
  {
   "cell_type": "markdown",
   "id": "a0a58d40",
   "metadata": {},
   "source": [
    "### 4.6. Testing the best model\n",
    "\n",
    "Testing the best model to see if it can reproduce the same accuracy, precision, etc."
   ]
  },
  {
   "cell_type": "markdown",
   "id": "7ce56012",
   "metadata": {},
   "source": [
    "#### 4.6.1. Random Forest (The Theoretically Best model)"
   ]
  },
  {
   "cell_type": "code",
   "execution_count": 67,
   "id": "bc85905d",
   "metadata": {},
   "outputs": [
    {
     "data": {
      "text/plain": [
       "RandomForestClassifier(criterion='entropy', max_depth=32, min_samples_split=8,\n",
       "                       n_estimators=40, random_state=42)"
      ]
     },
     "execution_count": 67,
     "metadata": {},
     "output_type": "execute_result"
    }
   ],
   "source": [
    "best_model = RandomForestClassifier(criterion=\"entropy\", \n",
    "                                    random_state = rs, \n",
    "                                    max_depth = 32, \n",
    "                                    n_estimators=40,\n",
    "                                    min_samples_split=8,\n",
    "                                    min_samples_leaf=1)\n",
    "best_model.fit(X_train, y_train)"
   ]
  },
  {
   "cell_type": "code",
   "execution_count": 68,
   "id": "fadde39a",
   "metadata": {},
   "outputs": [
    {
     "name": "stdout",
     "output_type": "stream",
     "text": [
      "The accuracy on test set is 80.4%\n"
     ]
    }
   ],
   "source": [
    "#Predicting:\n",
    "y_best = best_model.predict(X_test)\n",
    "\n",
    "#Seeing the accuracy:\n",
    "accuracy_best = accuracy_score(y_test, y_best) * 100\n",
    "\n",
    "#creating the precision_macro variable\n",
    "precision_best = precision_score(y_test, y_best, average='macro') * 100\n",
    "\n",
    "#creating the recall_macro variable\n",
    "recall_best = recall_score(y_test, y_best, average='macro') * 100\n",
    "\n",
    "#creating the f1_macro variable\n",
    "f1_best = f1_score(y_test, y_best, average='macro')* 100\n",
    "\n",
    "print(\"The accuracy on test set is {0:.1f}%\".format(accuracy_best)) \n"
   ]
  },
  {
   "cell_type": "code",
   "execution_count": 69,
   "id": "6f36aa77",
   "metadata": {},
   "outputs": [
    {
     "name": "stdout",
     "output_type": "stream",
     "text": [
      "              precision    recall  f1-score   support\n",
      "\n",
      "           0       0.31      0.24      0.27      2075\n",
      "           1       0.87      0.90      0.89     11621\n",
      "\n",
      "    accuracy                           0.80     13696\n",
      "   macro avg       0.59      0.57      0.58     13696\n",
      "weighted avg       0.79      0.80      0.79     13696\n",
      "\n"
     ]
    }
   ],
   "source": [
    "#Classitication Report on the RF model:\n",
    "print(classification_report(y_test, y_best))"
   ]
  },
  {
   "cell_type": "code",
   "execution_count": 70,
   "id": "775b9e2b",
   "metadata": {},
   "outputs": [
    {
     "name": "stdout",
     "output_type": "stream",
     "text": [
      "[[  502  1573]\n",
      " [ 1109 10512]]\n"
     ]
    }
   ],
   "source": [
    "print(confusion_matrix(y_test, y_best))"
   ]
  },
  {
   "cell_type": "code",
   "execution_count": 71,
   "id": "fb35916e",
   "metadata": {},
   "outputs": [
    {
     "data": {
      "image/png": "[encoded data removed]",
      "text/plain": [
       "<Figure size 400x400 with 2 Axes>"
      ]
     },
     "metadata": {},
     "output_type": "display_data"
    }
   ],
   "source": [
    "#Plotting the Confusion Matrix in a more vivid and clear way:\n",
    "plt.rcParams['figure.figsize'] = [4, 4]\n",
    "disp = ConfusionMatrixDisplay(confusion_matrix=confusion_matrix(y_test, y_best),\n",
    "                 display_labels=best_model.classes_);\n",
    "disp.plot();"
   ]
  },
  {
   "cell_type": "markdown",
   "id": "9dc6fe00",
   "metadata": {},
   "source": [
    "\t--------------------------------- Conclusion ---------------------------------\n",
    "    \n",
    "Our models seems to be overfiting a little when running our Train and Validation data, but when running in an entire new data, like the teste dataframe, it is still has a good accuracy of more then 60%, which in the real world can be a good metric. Also, the Random Forest model could reproduce the results better than the other two. Furthermore, this \"best model\" has a great recall and a \"ok\" precision when predicting if we'll have a reorder or not which is what we want. The same cannot be said about the precision and recall of this model when predicts a \"not reorder\". \n",
    "\n",
    "We also think that maybe with more data (instead of the sample) we could have a model that reproduces its results even better, but our notebook are not powerful enough to run all the codes with the whole dataset.\n",
    "\n",
    "\t-------------------------------------------------------------------------------"
   ]
  },
  {
   "cell_type": "markdown",
   "id": "1c9efe83",
   "metadata": {},
   "source": [
    "### Market Basket Analysis Association and Column creation\n",
    "\n",
    "We need to sample the dataframe again because otherwise our notebook wouldn't run the code below. "
   ]
  },
  {
   "cell_type": "code",
   "execution_count": 42,
   "id": "1f99c92c",
   "metadata": {},
   "outputs": [],
   "source": [
    "# -------------------------- Samplying the data by user' -------------------------------\n",
    "# create a list of order_ids to sample the data\n",
    "'''\n",
    "Here it will sample X user_ids and the number of rows would be the sum of the rows of the \n",
    "users selected\n",
    "'''\n",
    "user_ids_to_sample2 = list(df_prior['user_id'].sample(100, random_state=rs))\n",
    "\n",
    "# filter the dataframe to only contain rows with the selected order_ids\n",
    "filtered_df2 = df_prior[df_prior['user_id'].isin(user_ids_to_sample2)]\n",
    "\n",
    "# group the filtered dataframe by order_id and apply the sample function to each group\n",
    "sampled_groups2 = [group.sample(n=len(group), replace=True) for _, group in filtered_df2.groupby('user_id')]\n",
    "\n",
    "# concatenate the sampled groups into a single dataframe\n",
    "sampled_df2 = pd.concat(sampled_groups2)\n",
    "\n",
    "# reset the index of the sampled dataframe\n",
    "prior_red2 = sampled_df2.reset_index(drop=True)"
   ]
  },
  {
   "cell_type": "code",
   "execution_count": 43,
   "id": "c820e0c5",
   "metadata": {},
   "outputs": [],
   "source": [
    "#Group the products by order_id and user_id to create transactions:\n",
    "transactions = prior_red2.groupby(['order_id', 'user_id'])['product_id'].apply(list).reset_index(name='products')"
   ]
  },
  {
   "cell_type": "code",
   "execution_count": 44,
   "id": "13590def",
   "metadata": {},
   "outputs": [],
   "source": [
    "#Convert the products into binary indicators for each transaction:\n",
    "from mlxtend.preprocessing import TransactionEncoder\n",
    "\n",
    "te = TransactionEncoder()\n",
    "te_ary = te.fit_transform(transactions['products'])\n",
    "transactions = pd.DataFrame(te_ary, columns=te.columns_)"
   ]
  },
  {
   "cell_type": "code",
   "execution_count": 45,
   "id": "26fe62f1",
   "metadata": {},
   "outputs": [
    {
     "ename": "MemoryError",
     "evalue": "Unable to allocate 7.37 GiB for an array with shape (980700, 2, 4032) and data type bool",
     "output_type": "error",
     "traceback": [
      "\u001b[1;31m---------------------------------------------------------------------------\u001b[0m",
      "\u001b[1;31mMemoryError\u001b[0m                               Traceback (most recent call last)",
      "\u001b[1;32m~\\AppData\\Local\\Temp\\ipykernel_29936\\2507467494.py\u001b[0m in \u001b[0;36m<module>\u001b[1;34m\u001b[0m\n\u001b[0;32m      2\u001b[0m \u001b[1;32mfrom\u001b[0m \u001b[0mmlxtend\u001b[0m\u001b[1;33m.\u001b[0m\u001b[0mfrequent_patterns\u001b[0m \u001b[1;32mimport\u001b[0m \u001b[0mapriori\u001b[0m\u001b[1;33m\u001b[0m\u001b[1;33m\u001b[0m\u001b[0m\n\u001b[0;32m      3\u001b[0m \u001b[1;33m\u001b[0m\u001b[0m\n\u001b[1;32m----> 4\u001b[1;33m \u001b[0mfrequent_itemsets\u001b[0m \u001b[1;33m=\u001b[0m \u001b[0mapriori\u001b[0m\u001b[1;33m(\u001b[0m\u001b[0mtransactions\u001b[0m\u001b[1;33m,\u001b[0m \u001b[0mmin_support\u001b[0m\u001b[1;33m=\u001b[0m\u001b[1;36m0.001\u001b[0m\u001b[1;33m,\u001b[0m \u001b[0muse_colnames\u001b[0m\u001b[1;33m=\u001b[0m\u001b[1;32mTrue\u001b[0m\u001b[1;33m)\u001b[0m\u001b[1;33m\u001b[0m\u001b[1;33m\u001b[0m\u001b[0m\n\u001b[0m",
      "\u001b[1;32m~\\anaconda3\\lib\\site-packages\\mlxtend\\frequent_patterns\\apriori.py\u001b[0m in \u001b[0;36mapriori\u001b[1;34m(df, min_support, use_colnames, max_len, verbose, low_memory)\u001b[0m\n\u001b[0;32m    307\u001b[0m                     \u001b[0m_bools\u001b[0m \u001b[1;33m=\u001b[0m \u001b[0m_bools\u001b[0m \u001b[1;33m&\u001b[0m \u001b[1;33m(\u001b[0m\u001b[0mX\u001b[0m\u001b[1;33m[\u001b[0m\u001b[1;33m:\u001b[0m\u001b[1;33m,\u001b[0m \u001b[0mcombin\u001b[0m\u001b[1;33m[\u001b[0m\u001b[1;33m:\u001b[0m\u001b[1;33m,\u001b[0m \u001b[0mn\u001b[0m\u001b[1;33m]\u001b[0m\u001b[1;33m]\u001b[0m \u001b[1;33m==\u001b[0m \u001b[0mall_ones\u001b[0m\u001b[1;33m)\u001b[0m\u001b[1;33m\u001b[0m\u001b[1;33m\u001b[0m\u001b[0m\n\u001b[0;32m    308\u001b[0m             \u001b[1;32melse\u001b[0m\u001b[1;33m:\u001b[0m\u001b[1;33m\u001b[0m\u001b[1;33m\u001b[0m\u001b[0m\n\u001b[1;32m--> 309\u001b[1;33m                 \u001b[0m_bools\u001b[0m \u001b[1;33m=\u001b[0m \u001b[0mnp\u001b[0m\u001b[1;33m.\u001b[0m\u001b[0mall\u001b[0m\u001b[1;33m(\u001b[0m\u001b[0mX\u001b[0m\u001b[1;33m[\u001b[0m\u001b[1;33m:\u001b[0m\u001b[1;33m,\u001b[0m \u001b[0mcombin\u001b[0m\u001b[1;33m]\u001b[0m\u001b[1;33m,\u001b[0m \u001b[0maxis\u001b[0m\u001b[1;33m=\u001b[0m\u001b[1;36m2\u001b[0m\u001b[1;33m)\u001b[0m\u001b[1;33m\u001b[0m\u001b[1;33m\u001b[0m\u001b[0m\n\u001b[0m\u001b[0;32m    310\u001b[0m \u001b[1;33m\u001b[0m\u001b[0m\n\u001b[0;32m    311\u001b[0m             \u001b[0msupport\u001b[0m \u001b[1;33m=\u001b[0m \u001b[0m_support\u001b[0m\u001b[1;33m(\u001b[0m\u001b[0mnp\u001b[0m\u001b[1;33m.\u001b[0m\u001b[0marray\u001b[0m\u001b[1;33m(\u001b[0m\u001b[0m_bools\u001b[0m\u001b[1;33m)\u001b[0m\u001b[1;33m,\u001b[0m \u001b[0mrows_count\u001b[0m\u001b[1;33m,\u001b[0m \u001b[0mis_sparse\u001b[0m\u001b[1;33m)\u001b[0m\u001b[1;33m\u001b[0m\u001b[1;33m\u001b[0m\u001b[0m\n",
      "\u001b[1;31mMemoryError\u001b[0m: Unable to allocate 7.37 GiB for an array with shape (980700, 2, 4032) and data type bool"
     ]
    }
   ],
   "source": [
    "#Use the Apriori algorithm to find frequent itemsets:\n",
    "from mlxtend.frequent_patterns import apriori\n",
    "\n",
    "frequent_itemsets = apriori(transactions, min_support=0.001, use_colnames=True)"
   ]
  },
  {
   "cell_type": "code",
   "execution_count": null,
   "id": "fb8312bd",
   "metadata": {},
   "outputs": [],
   "source": [
    "frequent_itemsets"
   ]
  },
  {
   "cell_type": "code",
   "execution_count": null,
   "id": "055fe5cb",
   "metadata": {},
   "outputs": [],
   "source": [
    "#Generate association rules:\n",
    "from mlxtend.frequent_patterns import association_rules\n",
    "\n",
    "rules = association_rules(frequent_itemsets, metric=\"lift\", min_threshold=0.0001)"
   ]
  },
  {
   "cell_type": "code",
   "execution_count": null,
   "id": "676ecbb1",
   "metadata": {},
   "outputs": [],
   "source": [
    "rules"
   ]
  },
  {
   "cell_type": "markdown",
   "id": "8122cad5",
   "metadata": {},
   "source": [
    "- **antecedent support**: the proportion of transactions that contain the antecedent set of items.\n",
    " \n",
    " \n",
    "- **consequent support**: the proportion of transactions that contain the consequent set of items.\n",
    "\n",
    "\n",
    "- **support**: the proportion of transactions that contain both the antecedent and consequent sets of items.\n",
    "\n",
    "\n",
    "- **confidence**: the proportion of transactions that contain both the antecedent and consequent sets of items among the transactions that contain the antecedent set of items. It measures how often the consequent items appear in transactions that contain the antecedent items.\n",
    "\n",
    "\n",
    "- **lift**: the ratio of observed support to expected support if the antecedent and consequent were independent. A lift value greater than 1 indicates a positive correlation between the antecedent and consequent, while a value less than 1 indicates a negative correlation.\n",
    "\n",
    "\n",
    "- **leverage**: the difference between observed support and expected support if the antecedent and consequent were independent. It measures the deviation of the observed frequency of both sets of items from what would be expected if there was no association.\n",
    "\n",
    "\n",
    "- **conviction**: the ratio of the expected frequency of the antecedent to the frequency of the antecedent that are not followed by the consequent. It measures the degree of implication between the antecedent and consequent.\n",
    "\n",
    "\n",
    "- **zhangs_metric**: a metric that takes into account the direction and strength of association between the antecedent and consequent. A value greater than 0 indicates a positive correlation, while a value less than 0 indicates a negative correlation."
   ]
  },
  {
   "cell_type": "code",
   "execution_count": null,
   "id": "ae045477",
   "metadata": {},
   "outputs": [],
   "source": [
    "# Graph representing confidence and support\n",
    "\n",
    "sorted_rules=rules.sort_values(by=['confidence','support'],ascending=False).reset_index(drop=True)\n",
    "sorted_rules[['confidence','support']].plot(title='Association Rules');"
   ]
  },
  {
   "cell_type": "code",
   "execution_count": null,
   "id": "ed073c55",
   "metadata": {},
   "outputs": [],
   "source": [
    "# Graph showing lift \n",
    "\n",
    "s = [1.8**n for n in rules.lift] # 1.8 is chosen empirically to obtain the best graphical effect\n",
    "rules.plot.scatter(x='support', \n",
    "                   y='confidence', \n",
    "                   title='Association Rules (dot proportional to Lift)', \n",
    "                   s=s);"
   ]
  },
  {
   "cell_type": "code",
   "execution_count": null,
   "id": "67c125f1",
   "metadata": {},
   "outputs": [],
   "source": [
    "sorted_rules=rules.sort_values(by=['confidence','support'],ascending=False).reset_index(drop=True)\n",
    "sorted_rules[['confidence','support']].plot(title='Association Rules');"
   ]
  },
  {
   "cell_type": "code",
   "execution_count": null,
   "id": "50bd2ec5",
   "metadata": {},
   "outputs": [],
   "source": [
    "s = [1.8**n for n in rules.lift]\n",
    "rules.plot.scatter(x='support', \n",
    "                   y='confidence', \n",
    "                   title='Association Rules (dot proportional to Lift)', \n",
    "                   s=s);"
   ]
  },
  {
   "cell_type": "code",
   "execution_count": null,
   "id": "e749c5eb",
   "metadata": {},
   "outputs": [],
   "source": [
    "from draw_rules_graph import draw_graph\n",
    "import matplotlib.pyplot as plt\n",
    "%matplotlib inline\n",
    "\n",
    "plt.figure(figsize=(10,10))\n",
    "draw_graph (rules, 10)"
   ]
  },
  {
   "cell_type": "code",
   "execution_count": null,
   "id": "c378c27b",
   "metadata": {},
   "outputs": [],
   "source": []
  },
  {
   "cell_type": "code",
   "execution_count": null,
   "id": "eb0fe6b7",
   "metadata": {},
   "outputs": [],
   "source": []
  },
  {
   "cell_type": "code",
   "execution_count": null,
   "id": "20accdeb",
   "metadata": {},
   "outputs": [],
   "source": []
  },
  {
   "cell_type": "code",
   "execution_count": null,
   "id": "d2558006",
   "metadata": {},
   "outputs": [],
   "source": []
  },
  {
   "cell_type": "code",
   "execution_count": null,
   "id": "09023bcc",
   "metadata": {},
   "outputs": [],
   "source": []
  }
 ],
 "metadata": {
  "kernelspec": {
   "display_name": "Python 3 (ipykernel)",
   "language": "python",
   "name": "python3"
  },
  "language_info": {
   "codemirror_mode": {
    "name": "ipython",
    "version": 3
   },
   "file_extension": ".py",
   "mimetype": "text/x-python",
   "name": "python",
   "nbconvert_exporter": "python",
   "pygments_lexer": "ipython3",
   "version": "3.9.13"
  }
 },
 "nbformat": 4,
 "nbformat_minor": 5
}
